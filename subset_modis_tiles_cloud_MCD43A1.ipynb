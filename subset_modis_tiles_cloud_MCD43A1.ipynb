{
 "cells": [
  {
   "cell_type": "markdown",
   "metadata": {},
   "source": [
    "# Subset MODIS Tiles from NASA's Earthdata Cloud (MCD43A1)\n",
    "In this tutorial, we will subset a MODIS Land Product (MOD13Q1) available in the Earthdata Cloud. You will need to be in AWS us-west region.\n",
    "\n",
    "To access a Juypter Notebook on [AWS EC2](https://aws.amazon.com/ec2/) instance:\n",
    "1. On the AWS EC2 instance, start Juypter Notebook on port 8888 with the 'no-browser' parameter: `jupyter notebook --no-browser --port=8888`\n",
    "1. On your local machine, forward port 8000 to the remote port 8888 : `ssh -i my-key-pair.pem -L 8000:localhost:8888 my-instance-user-name@my-instance-IPv6-address`\n",
    "1. Now, the Jupyter Notebook can be accessed at `http://localhost:8000` in your local browser."
   ]
  },
  {
   "cell_type": "code",
   "execution_count": 1,
   "metadata": {
    "tags": []
   },
   "outputs": [],
   "source": [
    "import requests # request==2.28.1 \n",
    "import math \n",
    "import datetime as dt\n",
    "import numpy as np\n",
    "from requests.adapters import HTTPAdapter, Retry\n",
    "import s3fs # s3fs==0.4.2 \n",
    "import rioxarray as rxr # rioxarray==0.13.3 \n",
    "from posixpath import splitext\n",
    "from os import path, remove\n",
    "import pandas as pd # pandas==1.4.4"
   ]
  },
  {
   "cell_type": "markdown",
   "metadata": {},
   "source": [
    "### Product details"
   ]
  },
  {
   "cell_type": "code",
   "execution_count": 2,
   "metadata": {
    "tags": []
   },
   "outputs": [],
   "source": [
    "# product \n",
    "product = \"MCD43A1\"\n",
    "\n",
    "# file format\n",
    "f_format = 'hdf'\n",
    "\n",
    "# product doi\n",
    "doi = f\"10.5067/MODIS/{product}.061\"\n",
    "\n",
    "# product resolution in meters\n",
    "grid = 500\n",
    "\n",
    "# root data directory\n",
    "data_path = \"MOD_Grid_BRDF\""
   ]
  },
  {
   "cell_type": "markdown",
   "metadata": {},
   "source": [
    "### Subset parameters"
   ]
  },
  {
   "cell_type": "code",
   "execution_count": 3,
   "metadata": {
    "tags": []
   },
   "outputs": [],
   "source": [
    "# latitude/logitude in degrees decimals\n",
    "\n",
    "lat = 39.96852 # bottom /left span\n",
    "lon = -91.24829\n",
    "\n",
    "# subset size in km\n",
    "kmLeftRight = 1\n",
    "kmAboveBelow = 1\n",
    "\n",
    "# start & end dates\n",
    "start_date = dt.datetime(2016, 12, 15) \n",
    "end_date = dt.datetime(2016, 12, 15)\n",
    "\n",
    "# variables\n",
    "variables = ['BRDF_Albedo_Band_Mandatory_Quality_Band1',\n",
    " 'BRDF_Albedo_Band_Mandatory_Quality_Band2',\n",
    " 'BRDF_Albedo_Band_Mandatory_Quality_Band3',\n",
    " 'BRDF_Albedo_Band_Mandatory_Quality_Band4',\n",
    " 'BRDF_Albedo_Band_Mandatory_Quality_Band5',\n",
    " 'BRDF_Albedo_Band_Mandatory_Quality_Band6',\n",
    " 'BRDF_Albedo_Band_Mandatory_Quality_Band7',\n",
    " 'BRDF_Albedo_Band_Mandatory_Quality_nir',\n",
    " 'BRDF_Albedo_Band_Mandatory_Quality_shortwave',\n",
    " 'BRDF_Albedo_Band_Mandatory_Quality_vis',\n",
    " 'BRDF_Albedo_Parameters_Band1',\n",
    " 'BRDF_Albedo_Parameters_Band2',\n",
    " 'BRDF_Albedo_Parameters_Band3',\n",
    " 'BRDF_Albedo_Parameters_Band4',\n",
    " 'BRDF_Albedo_Parameters_Band5',\n",
    " 'BRDF_Albedo_Parameters_Band6',\n",
    " 'BRDF_Albedo_Parameters_Band7',\n",
    " 'BRDF_Albedo_Parameters_nir',\n",
    " 'BRDF_Albedo_Parameters_shortwave',\n",
    " 'BRDF_Albedo_Parameters_vis']"
   ]
  },
  {
   "cell_type": "markdown",
   "metadata": {},
   "source": [
    "### Tilemapper function"
   ]
  },
  {
   "cell_type": "code",
   "execution_count": 4,
   "metadata": {
    "tags": []
   },
   "outputs": [
    {
     "name": "stdout",
     "output_type": "stream",
     "text": [
      "modis_tile_size=2400, v=5, h=11, l=8, s=16\n"
     ]
    }
   ],
   "source": [
    "# returns vert tile, horiz tile, line, samp\n",
    "def tilemapper(laty, lonx, res):\n",
    "    dim = math.ceil(4800*250/res)\n",
    "    y = ((90 - laty)/180 * 18 * dim - 0.5) \n",
    "    x = (lonx/360*36*dim * math.cos(laty * np.pi / 180) + 18*dim - .5) % (36*dim)\n",
    "    t_h = math.floor(x/dim)\n",
    "    t_v = math.floor(y/dim)\n",
    "    t_s = math.ceil(x % dim)\n",
    "    t_l = math.ceil(y % dim)\n",
    "    if ((t_l-dim)==0):\n",
    "        t_l=0\n",
    "        t_v=t_v+1\n",
    "    if ((t_s-dim)==0):\n",
    "        t_s=0\n",
    "        t_h=t_h+1\n",
    "    return (dim, t_v, t_h, t_l, t_s)\n",
    "\n",
    "(modis_tile_size, v, h, l, s) = tilemapper(lat, lon, grid)\n",
    "\n",
    "# print\n",
    "print(f\"{modis_tile_size=}, {v=}, {h=}, {l=}, {s=}\")"
   ]
  },
  {
   "cell_type": "markdown",
   "metadata": {},
   "source": [
    "### Calculate box size"
   ]
  },
  {
   "cell_type": "code",
   "execution_count": 5,
   "metadata": {
    "tags": []
   },
   "outputs": [
    {
     "name": "stdout",
     "output_type": "stream",
     "text": [
      "line_span=6, box_wanted_samp=5, box_wanted_line=5, jump=0, span=0, calc_samp=19, calc_line=11\n"
     ]
    }
   ],
   "source": [
    "# number of pixels\n",
    "pix_left_right = math.ceil(kmLeftRight * 1000/grid)\n",
    "pix_above_below = math.ceil(kmAboveBelow * 1000/grid)\n",
    "\n",
    "# if s, l are negative, there is a jump\n",
    "s = s - pix_left_right \n",
    "l = l - pix_above_below\n",
    "\n",
    "h_span = h\n",
    "v_span = v\n",
    "line_span = l\n",
    "samp_span = s\n",
    "\n",
    "# tile jump\n",
    "jump = 0\n",
    "if (s < 0):\n",
    "    jump = 1\n",
    "    h_span = h-1\n",
    "    samp_span = modis_tile_size+s # NW pixel\n",
    "    \n",
    "if (l < 0):\n",
    "    jump = 1\n",
    "    v_span = v-1\n",
    "    line_span = modis_tile_size+l # NW pixel\n",
    "\n",
    "box_wanted_samp = pix_left_right+pix_left_right + 1\n",
    "box_wanted_line = pix_above_below+pix_above_below + 1 \n",
    "\n",
    "# tile span\n",
    "span = 0\n",
    "calc_samp = box_wanted_samp + samp_span\n",
    "calc_line = box_wanted_line + line_span\n",
    "if (calc_samp > modis_tile_size):\n",
    "    span = 1\n",
    "if (calc_line > modis_tile_size):\n",
    "    span = 1\n",
    "mts_plus1 = modis_tile_size + 1\n",
    "\n",
    "# print\n",
    "print(f\"{line_span=}, {box_wanted_samp=}, {box_wanted_line=}, {jump=}, {span=}, {calc_samp=}, {calc_line=}\")"
   ]
  },
  {
   "cell_type": "markdown",
   "metadata": {},
   "source": [
    "### Compute line, sample spans for tiles"
   ]
  },
  {
   "cell_type": "code",
   "execution_count": 6,
   "metadata": {
    "tags": []
   },
   "outputs": [
    {
     "data": {
      "text/html": [
       "<div>\n",
       "<style scoped>\n",
       "    .dataframe tbody tr th:only-of-type {\n",
       "        vertical-align: middle;\n",
       "    }\n",
       "\n",
       "    .dataframe tbody tr th {\n",
       "        vertical-align: top;\n",
       "    }\n",
       "\n",
       "    .dataframe thead th {\n",
       "        text-align: right;\n",
       "    }\n",
       "</style>\n",
       "<table border=\"1\" class=\"dataframe\">\n",
       "  <thead>\n",
       "    <tr style=\"text-align: right;\">\n",
       "      <th></th>\n",
       "      <th>order</th>\n",
       "      <th>tile</th>\n",
       "      <th>l</th>\n",
       "      <th>s</th>\n",
       "      <th>box_line</th>\n",
       "      <th>box_samp</th>\n",
       "    </tr>\n",
       "  </thead>\n",
       "  <tbody>\n",
       "    <tr>\n",
       "      <th>0</th>\n",
       "      <td>0</td>\n",
       "      <td>h11v05</td>\n",
       "      <td>6</td>\n",
       "      <td>14</td>\n",
       "      <td>5</td>\n",
       "      <td>5</td>\n",
       "    </tr>\n",
       "  </tbody>\n",
       "</table>\n",
       "</div>"
      ],
      "text/plain": [
       "   order    tile  l   s  box_line  box_samp\n",
       "0      0  h11v05  6  14         5         5"
      ]
     },
     "execution_count": 6,
     "metadata": {},
     "output_type": "execute_result"
    }
   ],
   "source": [
    "def hv_str(h_int, v_int):\n",
    "    return f\"h{str(h_int).zfill(2)}v{str(v_int).zfill(2)}\"\n",
    "\n",
    "def get_tile_info(t_pos, t_h, t_v, t_l, t_s, t_box_l, t_box_s):    \n",
    "    t_tile = hv_str(t_h, t_v)\n",
    "    return {'order' : t_pos,\n",
    "            'tile': t_tile, \n",
    "            'l': t_l, \n",
    "            's': t_s,\n",
    "            'box_line': t_box_l,\n",
    "            'box_samp': t_box_s}\n",
    "    \n",
    "def get_box_line_samp(cl, cs, mts):\n",
    "    hv = []\n",
    "    # bottom and left span\n",
    "    if ((cs > mts) and (cl > mts)): \n",
    "        # nw\n",
    "        hv.append(get_tile_info(0, h_span, v_span, line_span, samp_span, \n",
    "                          modis_tile_size - line_span, modis_tile_size - samp_span))\n",
    "        # ne\n",
    "        hv.append(get_tile_info(1, h_span + 1, v_span, line_span, 0, \n",
    "                          modis_tile_size - line_span, calc_samp - modis_tile_size))    \n",
    "        # sw\n",
    "        hv.append(get_tile_info(2, h_span, v_span + 1, 0, samp_span, \n",
    "                          calc_line - modis_tile_size, modis_tile_size - samp_span))\n",
    "        # se\n",
    "        hv.append(get_tile_info(3, h_span+1, v_span + 1, line_span, 0, \n",
    "                          calc_line - modis_tile_size, calc_samp - modis_tile_size))\n",
    "        \n",
    "    # left span   \n",
    "    elif ((cs > mts) and (cl <= mts)):\n",
    "        # nw\n",
    "        hv.append(get_tile_info(0, h_span, v_span, line_span, samp_span, \n",
    "                          box_wanted_line, modis_tile_size-samp_span))\n",
    "        # ne\n",
    "        hv.append(get_tile_info(1, h_span + 1, v_span, line_span, 0, \n",
    "                          box_wanted_line, calc_samp - modis_tile_size))    \n",
    "    \n",
    "    # bottom span\n",
    "    elif ((cs <= mts) and (cl > mts)):\n",
    "        # nw\n",
    "        hv.append(get_tile_info(0, h_span, v_span, line_span, samp_span, \n",
    "                          modis_tile_size - line_span, box_wanted_samp))\n",
    "        # sw\n",
    "        hv.append(get_tile_info(1, h_span, v_span + 1, 0, samp_span, \n",
    "                          calc_line - modis_tile_size, box_wanted_samp))\n",
    "    else:\n",
    "        # no jump\n",
    "        hv.append(\n",
    "            get_tile_info(0, h, v, l, s, box_wanted_line, box_wanted_samp)\n",
    "        )\n",
    "    return hv\n",
    "\n",
    "hv = get_box_line_samp (calc_line, calc_samp, modis_tile_size)\n",
    "\n",
    "hv_df = pd.DataFrame(hv)\n",
    "hv_df"
   ]
  },
  {
   "cell_type": "markdown",
   "metadata": {},
   "source": [
    "### Define search granules function"
   ]
  },
  {
   "cell_type": "code",
   "execution_count": 7,
   "metadata": {
    "tags": []
   },
   "outputs": [],
   "source": [
    "def search_granules(tile_hv, c_id, time_str):\n",
    "    page_num = 1\n",
    "    g_arr = []\n",
    "\n",
    "    while True:\n",
    "         # defining parameters\n",
    "        cmr_param = {\n",
    "            \"collection_concept_id\": c_id, \n",
    "            \"temporal\": time_str,\n",
    "            \"page_size\": 2000,\n",
    "            \"page_num\": page_num,\n",
    "            \"options[producerGranuleId][pattern]\": \"true\",\n",
    "            \"producerGranuleId\": f\"*.{tile_hv}.*\"        \n",
    "        }\n",
    "        granulesearch = cmrurl + 'granules.json'\n",
    "        response = requests.get(granulesearch, params=cmr_param)\n",
    "        granules = response.json()['feed']['entry']\n",
    "        if granules:\n",
    "            for g in granules:\n",
    "                # Get URL of HDF5 files\n",
    "                for links in g['links']:\n",
    "                    if links['href'].startswith('s3://') and links['href'].endswith(f\".{f_format}\"):\n",
    "                        s3_l = path.basename(links['href']).split('.')\n",
    "                        g_arr.append([links['href'], path.basename(links['href']), s3_l[1], s3_l[2], int(s3_l[4])])\n",
    "\n",
    "            page_num += 1\n",
    "        else: \n",
    "            break\n",
    "\n",
    "    # printing granules\n",
    "    return g_arr"
   ]
  },
  {
   "cell_type": "markdown",
   "metadata": {},
   "source": [
    "### Search granules"
   ]
  },
  {
   "cell_type": "code",
   "execution_count": 8,
   "metadata": {
    "tags": []
   },
   "outputs": [
    {
     "data": {
      "text/html": [
       "<div>\n",
       "<style scoped>\n",
       "    .dataframe tbody tr th:only-of-type {\n",
       "        vertical-align: middle;\n",
       "    }\n",
       "\n",
       "    .dataframe tbody tr th {\n",
       "        vertical-align: top;\n",
       "    }\n",
       "\n",
       "    .dataframe thead th {\n",
       "        text-align: right;\n",
       "    }\n",
       "</style>\n",
       "<table border=\"1\" class=\"dataframe\">\n",
       "  <thead>\n",
       "    <tr style=\"text-align: right;\">\n",
       "      <th></th>\n",
       "      <th>index</th>\n",
       "      <th>s3_link</th>\n",
       "      <th>granule</th>\n",
       "      <th>modis_date</th>\n",
       "      <th>hv</th>\n",
       "      <th>proc_date</th>\n",
       "      <th>dt</th>\n",
       "    </tr>\n",
       "  </thead>\n",
       "  <tbody>\n",
       "    <tr>\n",
       "      <th>7</th>\n",
       "      <td>7</td>\n",
       "      <td>s3://lp-prod-protected/MCD43A1.061/MCD43A1.A20...</td>\n",
       "      <td>MCD43A1.A2016350.h11v05.061.2021362230212.hdf</td>\n",
       "      <td>A2016350</td>\n",
       "      <td>h11v05</td>\n",
       "      <td>2021362230212</td>\n",
       "      <td>2016-12-15</td>\n",
       "    </tr>\n",
       "  </tbody>\n",
       "</table>\n",
       "</div>"
      ],
      "text/plain": [
       "   index                                            s3_link   \n",
       "7      7  s3://lp-prod-protected/MCD43A1.061/MCD43A1.A20...  \\\n",
       "\n",
       "                                         granule modis_date      hv   \n",
       "7  MCD43A1.A2016350.h11v05.061.2021362230212.hdf   A2016350  h11v05  \\\n",
       "\n",
       "       proc_date         dt  \n",
       "7  2021362230212 2016-12-15  "
      ]
     },
     "execution_count": 8,
     "metadata": {},
     "output_type": "execute_result"
    }
   ],
   "source": [
    "# cmr api url\n",
    "cmrurl='https://cmr.earthdata.nasa.gov/search/'\n",
    "# doi search to get concept_id\n",
    "doisearch = f'{cmrurl}collections.json?doi={doi}'\n",
    "concept_id = requests.get(doisearch).json()['feed']['entry'][0]['id']\n",
    "\n",
    "# CMR datetime format\n",
    "dt_format = '%Y-%m-%dT%H:%M:%SZ'\n",
    "# CMR time bounds\n",
    "temporal = start_date.strftime(dt_format) + ',' + end_date.strftime(dt_format)\n",
    "\n",
    "granule_arr=[]\n",
    "for hv_dict in hv:\n",
    "    granule_arr.extend(search_granules(hv_dict['tile'], concept_id, temporal))\n",
    "\n",
    "# create pandas dataframe\n",
    "granule_df = pd.DataFrame(granule_arr, columns=['s3_link', 'granule', 'modis_date', 'hv', 'proc_date'])\n",
    "\n",
    "# removing any granules with older proc dates\n",
    "granule_df = granule_df.loc[granule_df.groupby(['modis_date', 'hv'])['proc_date'].idxmax()].reset_index()\n",
    "\n",
    "# removing granules outside of time bounds\n",
    "granule_df['dt'] = pd.to_datetime(granule_df.modis_date.str[1:], format='%Y%j')\n",
    "granule_df = granule_df[(granule_df['dt']>=start_date) & (granule_df['dt']<=end_date)]\n",
    "granule_df"
   ]
  },
  {
   "cell_type": "markdown",
   "metadata": {},
   "source": [
    "### Get S3 credentials\n",
    "We will now get S3 temporary credentials and define the S3FS S3FileSystem object. Make sure that `.netrc` file is defined as described here: https://wiki.earthdata.nasa.gov/display/EL/How+To+Access+Data+With+cURL+And+Wget."
   ]
  },
  {
   "cell_type": "code",
   "execution_count": 9,
   "metadata": {
    "tags": []
   },
   "outputs": [],
   "source": [
    "# creating a backoff\n",
    "session = requests.Session()\n",
    "retries = Retry(total=3, backoff_factor=0.1, status_forcelist=[ 500, 502, 503, 504 ])\n",
    "session.mount('https://', HTTPAdapter(max_retries=retries))\n",
    "\n",
    "# lp daac s3\n",
    "lp_s3 = f\"https://data.lpdaac.earthdatacloud.nasa.gov/s3credentials\"\n",
    "\n",
    "# get s3 credentials\n",
    "s3credentials = session.get(lp_s3).json()\n",
    "\n",
    "# defining S3FS object\n",
    "fs_s3 =  s3fs.S3FileSystem(anon=False, \n",
    "                      key=s3credentials['accessKeyId'], \n",
    "                      secret=s3credentials['secretAccessKey'], \n",
    "                      token=s3credentials['sessionToken'])"
   ]
  },
  {
   "cell_type": "markdown",
   "metadata": {},
   "source": [
    "### Get Subsets"
   ]
  },
  {
   "cell_type": "code",
   "execution_count": 10,
   "metadata": {
    "scrolled": true,
    "tags": []
   },
   "outputs": [
    {
     "data": {
      "text/plain": [
       "'{\"granule\":{\"0\":\"MCD43A1.A2016350.h11v05.061.2021362230212.hdf\",\"1\":\"MCD43A1.A2016350.h11v05.061.2021362230212.hdf\",\"2\":\"MCD43A1.A2016350.h11v05.061.2021362230212.hdf\",\"3\":\"MCD43A1.A2016350.h11v05.061.2021362230212.hdf\",\"4\":\"MCD43A1.A2016350.h11v05.061.2021362230212.hdf\",\"5\":\"MCD43A1.A2016350.h11v05.061.2021362230212.hdf\",\"6\":\"MCD43A1.A2016350.h11v05.061.2021362230212.hdf\",\"7\":\"MCD43A1.A2016350.h11v05.061.2021362230212.hdf\",\"8\":\"MCD43A1.A2016350.h11v05.061.2021362230212.hdf\",\"9\":\"MCD43A1.A2016350.h11v05.061.2021362230212.hdf\",\"10\":\"MCD43A1.A2016350.h11v05.061.2021362230212.hdf\",\"11\":\"MCD43A1.A2016350.h11v05.061.2021362230212.hdf\",\"12\":\"MCD43A1.A2016350.h11v05.061.2021362230212.hdf\",\"13\":\"MCD43A1.A2016350.h11v05.061.2021362230212.hdf\",\"14\":\"MCD43A1.A2016350.h11v05.061.2021362230212.hdf\",\"15\":\"MCD43A1.A2016350.h11v05.061.2021362230212.hdf\",\"16\":\"MCD43A1.A2016350.h11v05.061.2021362230212.hdf\",\"17\":\"MCD43A1.A2016350.h11v05.061.2021362230212.hdf\",\"18\":\"MCD43A1.A2016350.h11v05.061.2021362230212.hdf\",\"19\":\"MCD43A1.A2016350.h11v05.061.2021362230212.hdf\",\"20\":\"MCD43A1.A2016350.h11v05.061.2021362230212.hdf\",\"21\":\"MCD43A1.A2016350.h11v05.061.2021362230212.hdf\",\"22\":\"MCD43A1.A2016350.h11v05.061.2021362230212.hdf\",\"23\":\"MCD43A1.A2016350.h11v05.061.2021362230212.hdf\",\"24\":\"MCD43A1.A2016350.h11v05.061.2021362230212.hdf\",\"25\":\"MCD43A1.A2016350.h11v05.061.2021362230212.hdf\",\"26\":\"MCD43A1.A2016350.h11v05.061.2021362230212.hdf\",\"27\":\"MCD43A1.A2016350.h11v05.061.2021362230212.hdf\",\"28\":\"MCD43A1.A2016350.h11v05.061.2021362230212.hdf\",\"29\":\"MCD43A1.A2016350.h11v05.061.2021362230212.hdf\",\"30\":\"MCD43A1.A2016350.h11v05.061.2021362230212.hdf\",\"31\":\"MCD43A1.A2016350.h11v05.061.2021362230212.hdf\"},\"band\":{\"0\":\"BRDF_Albedo_Band_Mandatory_Quality_Band1\",\"1\":\"BRDF_Albedo_Band_Mandatory_Quality_Band2\",\"2\":\"BRDF_Albedo_Band_Mandatory_Quality_Band3\",\"3\":\"BRDF_Albedo_Band_Mandatory_Quality_Band4\",\"4\":\"BRDF_Albedo_Band_Mandatory_Quality_Band5\",\"5\":\"BRDF_Albedo_Band_Mandatory_Quality_Band6\",\"6\":\"BRDF_Albedo_Band_Mandatory_Quality_Band7\",\"7\":\"BRDF_Albedo_Band_Mandatory_Quality_nir.Num_Parameters_01\",\"8\":\"BRDF_Albedo_Band_Mandatory_Quality_nir.Num_Parameters_02\",\"9\":\"BRDF_Albedo_Band_Mandatory_Quality_nir.Num_Parameters_03\",\"10\":\"BRDF_Albedo_Band_Mandatory_Quality_shortwave.Num_Parameters_01\",\"11\":\"BRDF_Albedo_Band_Mandatory_Quality_shortwave.Num_Parameters_02\",\"12\":\"BRDF_Albedo_Band_Mandatory_Quality_shortwave.Num_Parameters_03\",\"13\":\"BRDF_Albedo_Band_Mandatory_Quality_vis.Num_Parameters_01\",\"14\":\"BRDF_Albedo_Band_Mandatory_Quality_vis.Num_Parameters_02\",\"15\":\"BRDF_Albedo_Band_Mandatory_Quality_vis.Num_Parameters_03\",\"16\":\"BRDF_Albedo_Parameters_Band1\",\"17\":\"BRDF_Albedo_Parameters_Band2\",\"18\":\"BRDF_Albedo_Parameters_Band3\",\"19\":\"BRDF_Albedo_Parameters_Band4\",\"20\":\"BRDF_Albedo_Parameters_Band5\",\"21\":\"BRDF_Albedo_Parameters_Band6\",\"22\":\"BRDF_Albedo_Parameters_Band7\",\"23\":\"BRDF_Albedo_Parameters_nir.Num_Parameters_01\",\"24\":\"BRDF_Albedo_Parameters_nir.Num_Parameters_02\",\"25\":\"BRDF_Albedo_Parameters_nir.Num_Parameters_03\",\"26\":\"BRDF_Albedo_Parameters_shortwave.Num_Parameters_01\",\"27\":\"BRDF_Albedo_Parameters_shortwave.Num_Parameters_02\",\"28\":\"BRDF_Albedo_Parameters_shortwave.Num_Parameters_03\",\"29\":\"BRDF_Albedo_Parameters_vis.Num_Parameters_01\",\"30\":\"BRDF_Albedo_Parameters_vis.Num_Parameters_02\",\"31\":\"BRDF_Albedo_Parameters_vis.Num_Parameters_03\"},\"data\":{\"0\":[1.0,1.0,1.0,1.0,1.0,1.0,1.0,1.0,1.0,1.0,1.0,1.0,1.0,1.0,1.0,1.0,1.0,1.0,1.0,1.0,1.0,1.0,1.0,1.0,1.0],\"1\":[1.0,1.0,1.0,1.0,1.0,1.0,1.0,1.0,1.0,1.0,1.0,1.0,1.0,1.0,1.0,1.0,1.0,1.0,1.0,1.0,1.0,1.0,1.0,1.0,1.0],\"2\":[1.0,1.0,1.0,1.0,1.0,1.0,1.0,1.0,1.0,1.0,1.0,1.0,1.0,1.0,1.0,1.0,1.0,1.0,1.0,1.0,1.0,1.0,1.0,1.0,1.0],\"3\":[1.0,1.0,1.0,1.0,1.0,1.0,1.0,1.0,1.0,1.0,1.0,1.0,1.0,1.0,1.0,1.0,1.0,1.0,1.0,1.0,1.0,1.0,1.0,1.0,1.0],\"4\":[1.0,1.0,1.0,1.0,1.0,1.0,1.0,1.0,1.0,1.0,1.0,1.0,1.0,1.0,1.0,1.0,1.0,1.0,1.0,1.0,1.0,1.0,1.0,1.0,1.0],\"5\":[1.0,1.0,1.0,1.0,1.0,1.0,1.0,1.0,1.0,1.0,1.0,1.0,1.0,1.0,1.0,1.0,1.0,1.0,1.0,1.0,1.0,1.0,1.0,1.0,1.0],\"6\":[1.0,1.0,1.0,1.0,1.0,1.0,1.0,1.0,1.0,1.0,1.0,1.0,1.0,1.0,1.0,1.0,1.0,1.0,1.0,1.0,1.0,1.0,1.0,1.0,1.0],\"7\":[1.0,1.0,1.0,1.0,1.0,1.0,1.0,1.0,1.0,1.0,1.0,1.0,1.0,1.0,1.0,1.0,1.0,1.0,1.0,1.0,1.0,1.0,1.0,1.0,1.0],\"8\":[null,null,null,null,null,null,null,null,null,null,null,null,null,null,null,null,null,null,null,null,null,null,null,null,null],\"9\":[null,null,null,null,null,null,null,null,null,null,null,null,null,null,null,null,null,null,null,null,null,null,null,null,null],\"10\":[1.0,1.0,1.0,1.0,1.0,1.0,1.0,1.0,1.0,1.0,1.0,1.0,1.0,1.0,1.0,1.0,1.0,1.0,1.0,1.0,1.0,1.0,1.0,1.0,1.0],\"11\":[null,null,null,null,null,null,null,null,null,null,null,null,null,null,null,null,null,null,null,null,null,null,null,null,null],\"12\":[null,null,null,null,null,null,null,null,null,null,null,null,null,null,null,null,null,null,null,null,null,null,null,null,null],\"13\":[1.0,1.0,1.0,1.0,1.0,1.0,1.0,1.0,1.0,1.0,1.0,1.0,1.0,1.0,1.0,1.0,1.0,1.0,1.0,1.0,1.0,1.0,1.0,1.0,1.0],\"14\":[null,null,null,null,null,null,null,null,null,null,null,null,null,null,null,null,null,null,null,null,null,null,null,null,null],\"15\":[null,null,null,null,null,null,null,null,null,null,null,null,null,null,null,null,null,null,null,null,null,null,null,null,null],\"16\":[154,175,163,175,91,69,107,115,123,127,69,84,124,149,177,105,97,115,154,239,110,100,112,168,138],\"17\":[262,321,460,403,246,194,205,288,319,228,202,223,295,270,293,337,310,270,248,317,347,357,368,243,252],\"18\":[76,68,81,86,55,38,77,76,75,71,30,45,78,79,101,58,50,69,81,127,69,52,57,85,79],\"19\":[97,108,137,143,73,56,81,98,100,90,52,58,103,106,128,95,70,97,101,172,84,92,89,96,108],\"20\":[348,423,538,394,211,340,378,341,354,308,318,299,384,318,400,407,435,478,433,458,402,540,606,391,438],\"21\":[515,456,447,430,363,231,295,314,317,258,210,255,299,313,322,241,332,263,343,463,310,327,372,452,317],\"22\":[239,210,285,264,181,132,222,178,168,137,116,133,163,185,236,191,201,151,250,328,139,146,198,241,273],\"23\":[268,300,410,354,219,189,226,257,273,206,186,201,261,245,282,292,288,256,266,333,287,314,344,261,274],\"24\":[257,36,33,39,103,111,131,29,105,112,71,53,129,129,90,55,20,13,54,21,33,45,67,44,62],\"25\":[50,50,100,80,30,19,34,34,45,14,9,11,36,28,34,42,35,17,24,53,35,49,66,36,43],\"26\":[193,221,269,236,139,136,172,181,192,164,132,144,192,186,221,196,194,195,207,262,201,214,238,205,201],\"27\":[151,21,12,25,51,55,70,10,53,47,66,49,72,80,41,29,12,13,21,9,23,29,41,26,47],\"28\":[34,41,61,49,17,14,30,24,33,20,9,11,32,29,34,27,23,22,26,50,28,33,46,35,34],\"29\":[104,111,119,126,69,51,86,92,94,92,46,59,97,106,131,80,68,89,108,172,84,75,81,113,103],\"30\":[80,2,0,0,29,9,4,4,29,8,58,45,45,40,14,6,25,28,2,5,14,37,5,1,3],\"31\":[24,24,25,31,9,2,19,15,19,16,2,5,21,25,30,11,3,12,17,44,8,5,7,21,16]}}'"
      ]
     },
     "execution_count": 10,
     "metadata": {},
     "output_type": "execute_result"
    }
   ],
   "source": [
    "data = []\n",
    "for date_uniq in granule_df.modis_date.unique():\n",
    "    temp_df = granule_df[granule_df.modis_date==date_uniq]\n",
    "       \n",
    "    # loop over tiles and download\n",
    "    for i in hv_df.order:\n",
    "        tile_name = hv_df[hv_df.order==i].tile.values[0]\n",
    "        s3_link = temp_df[temp_df.hv==tile_name].s3_link.values[0]   \n",
    "        g_temp = temp_df[temp_df.hv==tile_name].granule.values[0]  \n",
    "        fs_s3.download(s3_link, g_temp)\n",
    "    \n",
    "    # loop over variables\n",
    "    for v in variables:\n",
    "        for i in hv_df.order:   \n",
    "            tile_name = hv_df[hv_df.order==i].tile.values[0]\n",
    "            g_temp = temp_df[temp_df.hv==tile_name].granule.values[0]\n",
    "            \n",
    "            # defining subset indices\n",
    "            l1 = hv_df[hv_df.order==i].l.values[0]\n",
    "            l2 = l1 + hv_df[hv_df.order==i].box_line.values[0]\n",
    "            s1 = hv_df[hv_df.order==i].s.values[0]\n",
    "            s2 = s1 + hv_df[hv_df.order==i].box_samp.values[0]\n",
    "            if path.isfile(g_temp):\n",
    "                with rxr.open_rasterio(g_temp) as modis:\n",
    "                    if v.endswith(('nir', 'shortwave', 'vis')):\n",
    "                        for prm in range(3):\n",
    "                            temp_data= modis[v][:, l1:l2, s1:s2].values[prm].flatten().tolist()\n",
    "                            band = f\"{v}.Num_Parameters_0{prm+1}\".replace(\" \", \"_\" )\n",
    "                            data.append([g_temp, band, temp_data])\n",
    "                    else:\n",
    "                        temp_data = modis[v][:, l1:l2, s1:s2].values[0].flatten().tolist()\n",
    "                        # removing spaces from band names\n",
    "                        band = v.replace(\" \", \"_\" )\n",
    "                        data.append([g_temp, band, temp_data])\n",
    "                        \n",
    "    # delete temp files\n",
    "    for g_temp in temp_df.granule:\n",
    "        if path.isfile(g_temp):\n",
    "            remove(g_temp)\n",
    "            \n",
    "headers = [\"granule\", \"band\", \"data\"]\n",
    "\n",
    "# print the output\n",
    "pd.DataFrame(data, columns=headers).to_json()"
   ]
  },
  {
   "cell_type": "code",
   "execution_count": null,
   "metadata": {},
   "outputs": [],
   "source": []
  }
 ],
 "metadata": {
  "kernelspec": {
   "display_name": "Python 3 (ipykernel)",
   "language": "python",
   "name": "python3"
  },
  "language_info": {
   "codemirror_mode": {
    "name": "ipython",
    "version": 3
   },
   "file_extension": ".py",
   "mimetype": "text/x-python",
   "name": "python",
   "nbconvert_exporter": "python",
   "pygments_lexer": "ipython3",
   "version": "3.9.16"
  }
 },
 "nbformat": 4,
 "nbformat_minor": 4
}
