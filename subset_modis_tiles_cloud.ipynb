{
 "cells": [
  {
   "cell_type": "markdown",
   "metadata": {},
   "source": [
    "# Subset MODIS Tiles from NASA's Earthdata Cloud\n",
    "In this tutorial, we will subset a MODIS Land Product (MOD13Q1) available in the Earthdata Cloud. You will need to be in AWS us-west region.\n",
    "\n",
    "To access a Juypter Notebook on [AWS EC2](https://aws.amazon.com/ec2/) instance:\n",
    "1. On the AWS EC2 instance, start Juypter Notebook on port 8888 with the 'no-browser' parameter: `jupyter notebook --no-browser --port=8888`\n",
    "1. On your local machine, forward port 8000 to the remote port 8888 : `ssh -i my-key-pair.pem -L 8000:localhost:8888 my-instance-user-name@my-instance-IPv6-address`\n",
    "1. Now, the Jupyter Notebook can be accessed at `http://localhost:8000` in your local browser."
   ]
  },
  {
   "cell_type": "code",
   "execution_count": 1,
   "metadata": {},
   "outputs": [],
   "source": [
    "import requests # request==2.28.1 \n",
    "import math \n",
    "import datetime as dt\n",
    "import numpy as np\n",
    "from requests.adapters import HTTPAdapter, Retry\n",
    "import s3fs # s3fs==0.4.2 \n",
    "import rioxarray as rxr # rioxarray==0.13.3 \n",
    "from posixpath import splitext\n",
    "from os import path, remove\n",
    "import pandas as pd # pandas==1.4.4"
   ]
  },
  {
   "cell_type": "markdown",
   "metadata": {},
   "source": [
    "### Product details"
   ]
  },
  {
   "cell_type": "code",
   "execution_count": 2,
   "metadata": {},
   "outputs": [],
   "source": [
    "# product \n",
    "product = \"MOD13Q1\"\n",
    "\n",
    "# file format\n",
    "f_format = 'hdf'\n",
    "\n",
    "# product doi\n",
    "doi = \"10.5067/MODIS/MOD13Q1.061\"\n",
    "\n",
    "# product resolution in meters\n",
    "grid = 250\n",
    "\n",
    "# root data directory\n",
    "data_path = \"MODIS_Grid_16DAY_250m_500m_VI\""
   ]
  },
  {
   "cell_type": "markdown",
   "metadata": {},
   "source": [
    "### Subset parameters"
   ]
  },
  {
   "cell_type": "code",
   "execution_count": 3,
   "metadata": {},
   "outputs": [],
   "source": [
    "# latitude/logitude in degrees decimals\n",
    "\n",
    "lat = 39.96852 # bottom /left span\n",
    "lon = -91.24829\n",
    "\n",
    "# subset size in km\n",
    "kmLeftRight = 1\n",
    "kmAboveBelow = 1\n",
    "\n",
    "# start & end dates\n",
    "start_date = dt.datetime(2016, 12, 15) \n",
    "end_date = dt.datetime(2017, 1, 15)\n",
    "\n",
    "# variables\n",
    "variables = ['250m 16 days NDVI',\n",
    " '250m 16 days relative azimuth angle',\n",
    " '250m 16 days composite day of the year',\n",
    " '250m 16 days pixel reliability',\n",
    " '250m 16 days EVI',\n",
    " '250m 16 days VI Quality',\n",
    " '250m 16 days red reflectance',\n",
    " '250m 16 days NIR reflectance',\n",
    " '250m 16 days blue reflectance',\n",
    " '250m 16 days MIR reflectance',\n",
    " '250m 16 days view zenith angle',\n",
    " '250m 16 days sun zenith angle']"
   ]
  },
  {
   "cell_type": "markdown",
   "metadata": {},
   "source": [
    "### Tilemapper function"
   ]
  },
  {
   "cell_type": "code",
   "execution_count": 4,
   "metadata": {},
   "outputs": [
    {
     "name": "stdout",
     "output_type": "stream",
     "text": [
      "modis_tile_size=4800, v=5, h=11, l=15, s=32\n"
     ]
    }
   ],
   "source": [
    "# returns vert tile, horiz tile, line, samp\n",
    "def tilemapper(laty, lonx, res):\n",
    "    dim = math.ceil(4800*250/res)\n",
    "    y = ((90 - laty)/180 * 18 * dim - 0.5) \n",
    "    x = (lonx/360*36*dim * math.cos(laty * np.pi / 180) + 18*dim - .5) % (36*dim)\n",
    "    t_h = math.floor(x/dim)\n",
    "    t_v = math.floor(y/dim)\n",
    "    t_s = math.ceil(x % dim)\n",
    "    t_l = math.ceil(y % dim)\n",
    "    if ((t_l-dim)==0):\n",
    "        t_l=0\n",
    "        t_v=t_v+1\n",
    "    if ((t_s-dim)==0):\n",
    "        t_s=0\n",
    "        t_h=t_h+1\n",
    "    return (dim, t_v, t_h, t_l, t_s)\n",
    "\n",
    "(modis_tile_size, v, h, l, s) = tilemapper(lat, lon, grid)\n",
    "\n",
    "# print\n",
    "print(f\"{modis_tile_size=}, {v=}, {h=}, {l=}, {s=}\")"
   ]
  },
  {
   "cell_type": "markdown",
   "metadata": {},
   "source": [
    "### Calculate box size"
   ]
  },
  {
   "cell_type": "code",
   "execution_count": 5,
   "metadata": {},
   "outputs": [
    {
     "name": "stdout",
     "output_type": "stream",
     "text": [
      "line_span=11, box_wanted_samp=9, box_wanted_line=9, jump=0, span=0, calc_samp=37, calc_line=20\n"
     ]
    }
   ],
   "source": [
    "# number of pixels\n",
    "pix_left_right = math.ceil(kmLeftRight * 1000/grid)\n",
    "pix_above_below = math.ceil(kmAboveBelow * 1000/grid)\n",
    "\n",
    "# if s, l are negative, there is a jump\n",
    "s = s - pix_left_right \n",
    "l = l - pix_above_below\n",
    "\n",
    "h_span = h\n",
    "v_span = v\n",
    "line_span = l\n",
    "samp_span = s\n",
    "\n",
    "# tile jump\n",
    "jump = 0\n",
    "if (s < 0):\n",
    "    jump = 1\n",
    "    h_span = h-1\n",
    "    samp_span = modis_tile_size+s # NW pixel\n",
    "    \n",
    "if (l < 0):\n",
    "    jump = 1\n",
    "    v_span = v-1\n",
    "    line_span = modis_tile_size+l # NW pixel\n",
    "\n",
    "box_wanted_samp = pix_left_right+pix_left_right + 1\n",
    "box_wanted_line = pix_above_below+pix_above_below + 1 \n",
    "\n",
    "# tile span\n",
    "span = 0\n",
    "calc_samp = box_wanted_samp + samp_span\n",
    "calc_line = box_wanted_line + line_span\n",
    "if (calc_samp > modis_tile_size):\n",
    "    span = 1\n",
    "if (calc_line > modis_tile_size):\n",
    "    span = 1\n",
    "mts_plus1 = modis_tile_size + 1\n",
    "\n",
    "# print\n",
    "print(f\"{line_span=}, {box_wanted_samp=}, {box_wanted_line=}, {jump=}, {span=}, {calc_samp=}, {calc_line=}\")"
   ]
  },
  {
   "cell_type": "markdown",
   "metadata": {},
   "source": [
    "### Compute line, sample spans for tiles"
   ]
  },
  {
   "cell_type": "code",
   "execution_count": 6,
   "metadata": {},
   "outputs": [
    {
     "data": {
      "text/html": [
       "<div>\n",
       "<style scoped>\n",
       "    .dataframe tbody tr th:only-of-type {\n",
       "        vertical-align: middle;\n",
       "    }\n",
       "\n",
       "    .dataframe tbody tr th {\n",
       "        vertical-align: top;\n",
       "    }\n",
       "\n",
       "    .dataframe thead th {\n",
       "        text-align: right;\n",
       "    }\n",
       "</style>\n",
       "<table border=\"1\" class=\"dataframe\">\n",
       "  <thead>\n",
       "    <tr style=\"text-align: right;\">\n",
       "      <th></th>\n",
       "      <th>order</th>\n",
       "      <th>tile</th>\n",
       "      <th>l</th>\n",
       "      <th>s</th>\n",
       "      <th>box_line</th>\n",
       "      <th>box_samp</th>\n",
       "    </tr>\n",
       "  </thead>\n",
       "  <tbody>\n",
       "    <tr>\n",
       "      <th>0</th>\n",
       "      <td>0</td>\n",
       "      <td>h11v05</td>\n",
       "      <td>11</td>\n",
       "      <td>28</td>\n",
       "      <td>9</td>\n",
       "      <td>9</td>\n",
       "    </tr>\n",
       "  </tbody>\n",
       "</table>\n",
       "</div>"
      ],
      "text/plain": [
       "   order    tile   l   s  box_line  box_samp\n",
       "0      0  h11v05  11  28         9         9"
      ]
     },
     "execution_count": 6,
     "metadata": {},
     "output_type": "execute_result"
    }
   ],
   "source": [
    "def hv_str(h_int, v_int):\n",
    "    return f\"h{str(h_int).zfill(2)}v{str(v_int).zfill(2)}\"\n",
    "\n",
    "def get_tile_info(t_pos, t_h, t_v, t_l, t_s, t_box_l, t_box_s):    \n",
    "    t_tile = hv_str(t_h, t_v)\n",
    "    return {'order' : t_pos,\n",
    "            'tile': t_tile, \n",
    "            'l': t_l, \n",
    "            's': t_s,\n",
    "            'box_line': t_box_l,\n",
    "            'box_samp': t_box_s}\n",
    "    \n",
    "def get_box_line_samp(cl, cs, mts):\n",
    "    hv = []\n",
    "    # bottom and left span\n",
    "    if ((cs > mts) and (cl > mts)): \n",
    "        # nw\n",
    "        hv.append(get_tile_info(0, h_span, v_span, line_span, samp_span, \n",
    "                          modis_tile_size - line_span, modis_tile_size - samp_span))\n",
    "        # ne\n",
    "        hv.append(get_tile_info(1, h_span + 1, v_span, line_span, 0, \n",
    "                          modis_tile_size - line_span, calc_samp - modis_tile_size))    \n",
    "        # sw\n",
    "        hv.append(get_tile_info(2, h_span, v_span + 1, 0, samp_span, \n",
    "                          calc_line - modis_tile_size, modis_tile_size - samp_span))\n",
    "        # se\n",
    "        hv.append(get_tile_info(3, h_span+1, v_span + 1, line_span, 0, \n",
    "                          calc_line - modis_tile_size, calc_samp - modis_tile_size))\n",
    "        \n",
    "    # left span   \n",
    "    elif ((cs > mts) and (cl <= mts)):\n",
    "        # nw\n",
    "        hv.append(get_tile_info(0, h_span, v_span, line_span, samp_span, \n",
    "                          box_wanted_line, modis_tile_size-samp_span))\n",
    "        # ne\n",
    "        hv.append(get_tile_info(1, h_span + 1, v_span, line_span, 0, \n",
    "                          box_wanted_line, calc_samp - modis_tile_size))    \n",
    "    \n",
    "    # bottom span\n",
    "    elif ((cs <= mts) and (cl > mts)):\n",
    "        # nw\n",
    "        hv.append(get_tile_info(0, h_span, v_span, line_span, samp_span, \n",
    "                          modis_tile_size - line_span, box_wanted_samp))\n",
    "        # sw\n",
    "        hv.append(get_tile_info(1, h_span, v_span + 1, 0, samp_span, \n",
    "                          calc_line - modis_tile_size, box_wanted_samp))\n",
    "    else:\n",
    "        # no jump\n",
    "        hv.append(\n",
    "            get_tile_info(0, h, v, l, s, box_wanted_line, box_wanted_samp)\n",
    "        )\n",
    "    return hv\n",
    "\n",
    "hv = get_box_line_samp (calc_line, calc_samp, modis_tile_size)\n",
    "\n",
    "hv_df = pd.DataFrame(hv)\n",
    "hv_df"
   ]
  },
  {
   "cell_type": "markdown",
   "metadata": {},
   "source": [
    "### Define search granules function"
   ]
  },
  {
   "cell_type": "code",
   "execution_count": 7,
   "metadata": {},
   "outputs": [],
   "source": [
    "def search_granules(tile_hv, c_id, time_str):\n",
    "    page_num = 1\n",
    "    g_arr = []\n",
    "\n",
    "    while True:\n",
    "         # defining parameters\n",
    "        cmr_param = {\n",
    "            \"collection_concept_id\": c_id, \n",
    "            \"temporal\": time_str,\n",
    "            \"page_size\": 2000,\n",
    "            \"page_num\": page_num,\n",
    "            \"options[producerGranuleId][pattern]\": \"true\",\n",
    "            \"producerGranuleId\": f\"*.{tile_hv}.*\"        \n",
    "        }\n",
    "        granulesearch = cmrurl + 'granules.json'\n",
    "        response = requests.get(granulesearch, params=cmr_param)\n",
    "        granules = response.json()['feed']['entry']\n",
    "        if granules:\n",
    "            for g in granules:\n",
    "                # Get URL of HDF5 files\n",
    "                for links in g['links']:\n",
    "                    if links['href'].startswith('s3://') and links['href'].endswith(f\".{f_format}\"):\n",
    "                        s3_l = path.basename(links['href']).split('.')\n",
    "                        g_arr.append([links['href'], path.basename(links['href']), s3_l[1], s3_l[2], int(s3_l[4])])\n",
    "\n",
    "            page_num += 1\n",
    "        else: \n",
    "            break\n",
    "\n",
    "    # printing granules\n",
    "    return g_arr"
   ]
  },
  {
   "cell_type": "markdown",
   "metadata": {},
   "source": [
    "### Search granules"
   ]
  },
  {
   "cell_type": "code",
   "execution_count": 8,
   "metadata": {},
   "outputs": [
    {
     "data": {
      "text/html": [
       "<div>\n",
       "<style scoped>\n",
       "    .dataframe tbody tr th:only-of-type {\n",
       "        vertical-align: middle;\n",
       "    }\n",
       "\n",
       "    .dataframe tbody tr th {\n",
       "        vertical-align: top;\n",
       "    }\n",
       "\n",
       "    .dataframe thead th {\n",
       "        text-align: right;\n",
       "    }\n",
       "</style>\n",
       "<table border=\"1\" class=\"dataframe\">\n",
       "  <thead>\n",
       "    <tr style=\"text-align: right;\">\n",
       "      <th></th>\n",
       "      <th>index</th>\n",
       "      <th>s3_link</th>\n",
       "      <th>granule</th>\n",
       "      <th>modis_date</th>\n",
       "      <th>hv</th>\n",
       "      <th>proc_date</th>\n",
       "    </tr>\n",
       "  </thead>\n",
       "  <tbody>\n",
       "    <tr>\n",
       "      <th>0</th>\n",
       "      <td>0</td>\n",
       "      <td>s3://lp-prod-protected/MOD13Q1.061/MOD13Q1.A20...</td>\n",
       "      <td>MOD13Q1.A2016337.h11v05.061.2021363040441.hdf</td>\n",
       "      <td>A2016337</td>\n",
       "      <td>h11v05</td>\n",
       "      <td>2021363040441</td>\n",
       "    </tr>\n",
       "    <tr>\n",
       "      <th>1</th>\n",
       "      <td>1</td>\n",
       "      <td>s3://lp-prod-protected/MOD13Q1.061/MOD13Q1.A20...</td>\n",
       "      <td>MOD13Q1.A2016353.h11v05.061.2021363152448.hdf</td>\n",
       "      <td>A2016353</td>\n",
       "      <td>h11v05</td>\n",
       "      <td>2021363152448</td>\n",
       "    </tr>\n",
       "    <tr>\n",
       "      <th>2</th>\n",
       "      <td>2</td>\n",
       "      <td>s3://lp-prod-protected/MOD13Q1.061/MOD13Q1.A20...</td>\n",
       "      <td>MOD13Q1.A2017001.h11v05.061.2021257162728.hdf</td>\n",
       "      <td>A2017001</td>\n",
       "      <td>h11v05</td>\n",
       "      <td>2021257162728</td>\n",
       "    </tr>\n",
       "  </tbody>\n",
       "</table>\n",
       "</div>"
      ],
      "text/plain": [
       "   index                                            s3_link  \\\n",
       "0      0  s3://lp-prod-protected/MOD13Q1.061/MOD13Q1.A20...   \n",
       "1      1  s3://lp-prod-protected/MOD13Q1.061/MOD13Q1.A20...   \n",
       "2      2  s3://lp-prod-protected/MOD13Q1.061/MOD13Q1.A20...   \n",
       "\n",
       "                                         granule modis_date      hv  \\\n",
       "0  MOD13Q1.A2016337.h11v05.061.2021363040441.hdf   A2016337  h11v05   \n",
       "1  MOD13Q1.A2016353.h11v05.061.2021363152448.hdf   A2016353  h11v05   \n",
       "2  MOD13Q1.A2017001.h11v05.061.2021257162728.hdf   A2017001  h11v05   \n",
       "\n",
       "       proc_date  \n",
       "0  2021363040441  \n",
       "1  2021363152448  \n",
       "2  2021257162728  "
      ]
     },
     "execution_count": 8,
     "metadata": {},
     "output_type": "execute_result"
    }
   ],
   "source": [
    "# cmr api url\n",
    "cmrurl='https://cmr.earthdata.nasa.gov/search/'\n",
    "# doi search to get concept_id\n",
    "doisearch = f'{cmrurl}collections.json?doi={doi}'\n",
    "concept_id = requests.get(doisearch).json()['feed']['entry'][0]['id']\n",
    "\n",
    "# CMR datetime format\n",
    "dt_format = '%Y-%m-%dT%H:%M:%SZ'\n",
    "# CMR time bounds\n",
    "temporal = start_date.strftime(dt_format) + ',' + end_date.strftime(dt_format)\n",
    "\n",
    "granule_arr=[]\n",
    "for hv_dict in hv:\n",
    "    granule_arr.extend(search_granules(hv_dict['tile'], concept_id, temporal))\n",
    "\n",
    "# create pandas dataframe\n",
    "granule_df = pd.DataFrame(granule_arr, columns=['s3_link', 'granule', 'modis_date', 'hv', 'proc_date'])\n",
    "\n",
    "# removing any granules with older proc dates\n",
    "granule_df = granule_df.loc[granule_df.groupby(['modis_date', 'hv'])['proc_date'].idxmax()].reset_index()\n",
    "granule_df"
   ]
  },
  {
   "cell_type": "markdown",
   "metadata": {},
   "source": [
    "### Get S3 credentials\n",
    "We will now get S3 temporary credentials and define the S3FS S3FileSystem object. Make sure that `.netrc` file is defined as described here: https://wiki.earthdata.nasa.gov/display/EL/How+To+Access+Data+With+cURL+And+Wget."
   ]
  },
  {
   "cell_type": "code",
   "execution_count": 9,
   "metadata": {},
   "outputs": [],
   "source": [
    "# creating a backoff\n",
    "session = requests.Session()\n",
    "retries = Retry(total=3, backoff_factor=0.1, status_forcelist=[ 500, 502, 503, 504 ])\n",
    "session.mount('https://', HTTPAdapter(max_retries=retries))\n",
    "\n",
    "# lp daac s3\n",
    "lp_s3 = f\"https://data.lpdaac.earthdatacloud.nasa.gov/s3credentials\"\n",
    "\n",
    "# get s3 credentials\n",
    "s3credentials = session.get(lp_s3).json()\n",
    "\n",
    "# defining S3FS object\n",
    "fs_s3 =  s3fs.S3FileSystem(anon=False, \n",
    "                      key=s3credentials['accessKeyId'], \n",
    "                      secret=s3credentials['secretAccessKey'], \n",
    "                      token=s3credentials['sessionToken'])"
   ]
  },
  {
   "cell_type": "markdown",
   "metadata": {},
   "source": [
    "### Get Subsets"
   ]
  },
  {
   "cell_type": "code",
   "execution_count": 10,
   "metadata": {
    "scrolled": true
   },
   "outputs": [
    {
     "data": {
      "text/plain": [
       "'{\"granule\":{\"0\":\"MOD13Q1.A2016337.h11v05.061.2021363040441.hdf\",\"1\":\"MOD13Q1.A2016337.h11v05.061.2021363040441.hdf\",\"2\":\"MOD13Q1.A2016337.h11v05.061.2021363040441.hdf\",\"3\":\"MOD13Q1.A2016337.h11v05.061.2021363040441.hdf\",\"4\":\"MOD13Q1.A2016337.h11v05.061.2021363040441.hdf\",\"5\":\"MOD13Q1.A2016337.h11v05.061.2021363040441.hdf\",\"6\":\"MOD13Q1.A2016337.h11v05.061.2021363040441.hdf\",\"7\":\"MOD13Q1.A2016337.h11v05.061.2021363040441.hdf\",\"8\":\"MOD13Q1.A2016337.h11v05.061.2021363040441.hdf\",\"9\":\"MOD13Q1.A2016337.h11v05.061.2021363040441.hdf\",\"10\":\"MOD13Q1.A2016337.h11v05.061.2021363040441.hdf\",\"11\":\"MOD13Q1.A2016337.h11v05.061.2021363040441.hdf\",\"12\":\"MOD13Q1.A2016353.h11v05.061.2021363152448.hdf\",\"13\":\"MOD13Q1.A2016353.h11v05.061.2021363152448.hdf\",\"14\":\"MOD13Q1.A2016353.h11v05.061.2021363152448.hdf\",\"15\":\"MOD13Q1.A2016353.h11v05.061.2021363152448.hdf\",\"16\":\"MOD13Q1.A2016353.h11v05.061.2021363152448.hdf\",\"17\":\"MOD13Q1.A2016353.h11v05.061.2021363152448.hdf\",\"18\":\"MOD13Q1.A2016353.h11v05.061.2021363152448.hdf\",\"19\":\"MOD13Q1.A2016353.h11v05.061.2021363152448.hdf\",\"20\":\"MOD13Q1.A2016353.h11v05.061.2021363152448.hdf\",\"21\":\"MOD13Q1.A2016353.h11v05.061.2021363152448.hdf\",\"22\":\"MOD13Q1.A2016353.h11v05.061.2021363152448.hdf\",\"23\":\"MOD13Q1.A2016353.h11v05.061.2021363152448.hdf\",\"24\":\"MOD13Q1.A2017001.h11v05.061.2021257162728.hdf\",\"25\":\"MOD13Q1.A2017001.h11v05.061.2021257162728.hdf\",\"26\":\"MOD13Q1.A2017001.h11v05.061.2021257162728.hdf\",\"27\":\"MOD13Q1.A2017001.h11v05.061.2021257162728.hdf\",\"28\":\"MOD13Q1.A2017001.h11v05.061.2021257162728.hdf\",\"29\":\"MOD13Q1.A2017001.h11v05.061.2021257162728.hdf\",\"30\":\"MOD13Q1.A2017001.h11v05.061.2021257162728.hdf\",\"31\":\"MOD13Q1.A2017001.h11v05.061.2021257162728.hdf\",\"32\":\"MOD13Q1.A2017001.h11v05.061.2021257162728.hdf\",\"33\":\"MOD13Q1.A2017001.h11v05.061.2021257162728.hdf\",\"34\":\"MOD13Q1.A2017001.h11v05.061.2021257162728.hdf\",\"35\":\"MOD13Q1.A2017001.h11v05.061.2021257162728.hdf\"},\"band\":{\"0\":\"250m_16_days_NDVI\",\"1\":\"250m_16_days_relative_azimuth_angle\",\"2\":\"250m_16_days_composite_day_of_the_year\",\"3\":\"250m_16_days_pixel_reliability\",\"4\":\"250m_16_days_EVI\",\"5\":\"250m_16_days_VI_Quality\",\"6\":\"250m_16_days_red_reflectance\",\"7\":\"250m_16_days_NIR_reflectance\",\"8\":\"250m_16_days_blue_reflectance\",\"9\":\"250m_16_days_MIR_reflectance\",\"10\":\"250m_16_days_view_zenith_angle\",\"11\":\"250m_16_days_sun_zenith_angle\",\"12\":\"250m_16_days_NDVI\",\"13\":\"250m_16_days_relative_azimuth_angle\",\"14\":\"250m_16_days_composite_day_of_the_year\",\"15\":\"250m_16_days_pixel_reliability\",\"16\":\"250m_16_days_EVI\",\"17\":\"250m_16_days_VI_Quality\",\"18\":\"250m_16_days_red_reflectance\",\"19\":\"250m_16_days_NIR_reflectance\",\"20\":\"250m_16_days_blue_reflectance\",\"21\":\"250m_16_days_MIR_reflectance\",\"22\":\"250m_16_days_view_zenith_angle\",\"23\":\"250m_16_days_sun_zenith_angle\",\"24\":\"250m_16_days_NDVI\",\"25\":\"250m_16_days_relative_azimuth_angle\",\"26\":\"250m_16_days_composite_day_of_the_year\",\"27\":\"250m_16_days_pixel_reliability\",\"28\":\"250m_16_days_EVI\",\"29\":\"250m_16_days_VI_Quality\",\"30\":\"250m_16_days_red_reflectance\",\"31\":\"250m_16_days_NIR_reflectance\",\"32\":\"250m_16_days_blue_reflectance\",\"33\":\"250m_16_days_MIR_reflectance\",\"34\":\"250m_16_days_view_zenith_angle\",\"35\":\"250m_16_days_sun_zenith_angle\"},\"data\":{\"0\":[3594,3594,3057,3057,3770,5001,5001,4354,4420,3926,3231,3337,5274,5659,5659,4975,4506,4506,3517,3377,4255,4255,2834,4975,4113,4506,4482,5345,4717,4655,3400,2853,4113,5220,5220,4100,5120,5298,3760,4158,4653,5907,5907,5675,5197,5507,5507,5601,5102,5711,5709,5533,5375,5197,6534,5804,5475,6107,5201,5337,5375,4672,4672,5928,5377,6107,5531,5201,4545,4152,3973,3272,5142,5187,5691,5691,5557,4612,2888,2989,2835],\"1\":[11286,11286,11286,11286,11286,11286,11286,11286,11286,11286,11286,11286,-6405,11286,11286,11286,-6387,-6387,-6405,-6405,-6405,-6405,11286,11286,-6387,-6387,-6387,-6405,-6405,11302,-6406,-6406,-6406,11286,11286,11286,-6405,-6405,11302,11302,-6406,-6406,-6406,-6406,-6406,11302,11302,11302,-6406,11301,-6406,11301,11301,-6406,11302,-6406,-6406,-6406,-6406,-6406,11301,-6406,-6406,11302,11302,-6425,11301,-6406,11301,-6406,11301,-6406,-6425,-6425,-6425,-6425,-6406,11301,11301,11301,-6406],\"2\":[347,347,347,347,347,347,347,347,347,347,347,347,337,347,347,347,337,337,337,337,337,337,347,347,337,337,337,337,337,347,337,337,337,347,347,347,337,337,347,347,337,337,337,337,337,347,347,347,337,347,337,347,347,337,347,337,337,337,337,337,347,337,337,347,347,337,347,337,347,337,347,337,337,337,337,337,337,347,347,347,337],\"3\":[0,0,0,0,0,0,0,0,0,0,0,0,0,0,0,0,0,0,0,0,0,0,0,0,0,0,0,0,0,0,0,0,0,0,0,0,0,0,0,0,0,0,0,0,0,0,0,0,0,0,0,0,0,0,0,0,0,0,0,0,0,0,0,0,0,0,0,0,0,0,0,0,0,0,0,0,0,0,0,0,0],\"4\":[1994,1994,1698,1698,2068,2894,2970,2419,2083,2178,1690,1699,3581,3865,3865,3049,2714,2531,1896,1895,2428,2428,1414,3081,2358,2714,2125,2730,2279,1842,1767,1696,2418,2605,2605,1959,2778,2540,1409,1782,2865,4300,3925,3716,3600,2316,2316,2817,2816,3327,3357,2986,2729,3556,3750,3263,2985,3856,3272,2880,2729,2516,2665,3470,2962,4303,3602,3358,2657,2510,2146,1948,3397,3526,4218,4218,3865,2773,1460,1601,1588],\"5\":[2120,2120,2120,2120,2120,2120,2120,2120,2120,2120,2120,2120,2120,2120,2120,2120,2120,2120,2120,2120,2120,2120,2120,2120,2120,2120,2120,2120,2120,2120,2120,2120,2120,2120,2120,2120,2120,2120,2120,2120,2120,2120,2120,2120,2120,2120,2120,2120,2120,2120,2120,2120,2120,2120,2120,2120,2120,2120,2120,2120,2120,2120,2120,2120,2120,2120,2120,2120,2120,2120,2120,2120,2120,2120,2120,2120,2120,2120,2120,2120,2120],\"6\":[1113,1113,1208,1208,1088,843,843,894,667,939,997,962,1065,893,893,915,921,921,1045,1195,999,999,1048,915,928,921,664,576,626,508,858,1414,928,590,590,743,691,523,575,656,871,814,814,861,992,445,445,580,762,701,706,644,606,992,527,670,661,703,970,678,606,780,780,650,698,703,864,970,945,1049,923,1330,880,928,945,945,1012,986,1066,1190,1286],\"7\":[2362,2362,2272,2272,2405,2530,2530,2273,1724,2153,1949,1926,3442,3222,3222,2727,2432,2432,2179,2414,2479,2479,1877,2727,2225,2432,1743,1899,1744,1393,1742,2543,2225,1879,1879,1776,2141,1702,1268,1590,2387,3164,3164,3121,3139,1536,1536,2057,2350,2568,2585,2240,2015,3139,2514,2524,2261,2909,3073,2230,2015,2148,2148,2543,2322,2909,3003,3073,2520,2539,2140,2624,2743,2929,3442,3442,3544,2674,1932,2205,2304],\"8\":[451,451,514,514,402,402,452,452,406,514,514,469,432,469,469,448,539,405,467,467,432,432,469,469,539,539,405,432,432,324,585,585,585,407,407,407,432,432,324,324,585,585,411,411,558,324,324,324,377,366,377,366,366,533,324,312,377,377,377,377,366,432,533,374,374,575,446,432,450,533,467,533,575,575,575,575,432,450,467,467,533],\"9\":[1252,1252,1458,1458,1239,1239,1210,1210,1302,1458,1458,1274,1717,1274,1274,1284,1723,1544,1569,1569,1717,1717,1274,1274,1723,1723,1544,1717,1717,1094,1969,1969,1969,1134,1134,1134,1717,1717,1094,1094,1969,1969,1574,1574,1545,1094,1094,1094,1414,1056,1414,1056,1056,1850,1094,1270,1414,1414,1414,1414,1056,1522,1850,1139,1139,1766,1247,1522,1449,1850,1418,1850,1766,1766,1766,1766,1522,1449,1418,1418,1850],\"10\":[3490,3490,3490,3490,3490,3490,3499,3499,3499,3490,3490,3499,2797,3499,3499,3499,2788,2788,2797,2797,2797,2797,3499,3499,2788,2788,2788,2797,2797,3499,2788,2788,2788,3508,3508,3508,2797,2797,3499,3499,2788,2788,2788,2788,2778,3499,3499,3499,2788,3508,2788,3508,3508,2778,3499,2788,2788,2788,2788,2788,3508,2778,2778,3499,3499,2788,3508,2778,3508,2778,3508,2778,2788,2788,2788,2788,2778,3508,3508,3508,2778],\"11\":[6365,6365,6365,6365,6365,6365,6364,6364,6364,6365,6365,6364,6401,6364,6364,6364,6402,6402,6401,6401,6401,6401,6364,6364,6402,6402,6402,6401,6401,6363,6401,6401,6401,6364,6364,6364,6401,6401,6363,6363,6401,6401,6401,6401,6400,6363,6363,6363,6401,6363,6401,6363,6363,6400,6363,6401,6401,6401,6401,6401,6363,6400,6400,6363,6363,6400,6363,6400,6363,6400,6363,6400,6400,6400,6400,6400,6400,6363,6363,6363,6400],\"12\":[4301,3237,3072,2950,3105,4194,3689,3262,4125,3379,2789,2956,2956,4194,4063,3915,3612,4479,3596,3796,3570,3994,3830,3327,3269,4186,4523,4870,3796,3570,2660,2445,2672,4013,4523,3760,4768,4329,3977,4049,4184,4013,4638,4367,3938,5069,4840,4853,4129,4184,4662,4558,4777,4640,5146,4882,4659,4441,4363,4363,3991,3824,4338,4675,4659,4945,4231,3968,3658,3017,3694,2853,3727,3422,4191,4460,4325,3658,3017,2776,2680],\"13\":[-6222,-6222,-6222,-6222,-6222,-6222,-6222,-6222,-6145,-6222,-6222,-6222,-6222,-6222,-6222,-6222,-6222,-6222,-6222,-6222,-6222,-6222,-6222,-6222,-6222,-6222,-6222,-6298,-6298,-6300,-6300,-6222,-6222,-6222,-6222,-6223,-6298,-6298,-6300,-6300,-6222,-6222,-6222,-6222,-6223,-6300,-6300,-6300,-6300,-6301,-6301,-6301,-6301,-6302,-6300,-6300,-6300,-6300,-6301,-6301,-6301,-6301,-6302,-6300,-6300,-6301,-6301,-6301,-6301,-6302,-6302,-6302,-6300,-6300,-6301,-6301,-6301,-6301,-6302,-6302,-6302],\"14\":[1,1,1,1,1,1,1,1,1,1,1,1,1,1,1,1,1,1,1,1,1,1,1,1,1,1,1,1,1,1,1,1,1,1,1,1,1,1,1,1,1,1,1,1,1,1,1,1,1,1,1,1,1,1,1,1,1,1,1,1,1,1,1,1,1,1,1,1,1,1,1,1,1,1,1,1,1,1,1,1,1],\"15\":[0,0,0,0,0,0,0,0,0,0,0,0,0,0,0,0,0,0,0,0,0,0,0,0,0,0,0,0,0,0,0,0,0,0,0,0,0,0,0,0,0,0,0,0,0,0,0,0,0,0,0,0,0,0,0,0,0,0,0,0,0,0,0,0,0,0,0,0,0,0,0,0,0,0,0,0,0,0,0,0,0],\"16\":[2586,1875,1759,1766,1758,2566,2217,1854,2176,1866,1572,1650,1650,2620,2602,2468,2069,2209,1681,1656,1536,2438,2354,1918,1858,2012,1931,2335,1509,1389,1218,1223,1376,1898,1944,1992,2045,1604,1417,1605,2287,1898,2505,2609,2217,2016,2176,2636,1974,2315,2797,2473,2614,2764,2647,2566,2343,2131,2231,2231,2167,1941,2529,2734,2371,3142,2734,2578,2282,1738,2109,1770,2006,1808,2502,2815,2941,2282,1738,1550,1624],\"17\":[2120,2120,2120,2120,2120,2120,2120,2120,2120,2120,2120,2120,2120,2120,2120,2120,2120,2120,2120,2120,2120,2120,2120,2120,2120,2120,2120,2120,2120,2120,2120,2120,2120,2120,2120,2120,2120,2120,2120,2120,2120,2120,2120,2120,2120,2120,2120,2120,2120,2120,2120,2120,2120,2120,2120,2120,2120,2120,2120,2120,2120,2120,2120,2120,2120,2120,2120,2120,2120,2120,2120,2120,2120,2120,2120,2120,2120,2120,2120,2120,2120],\"18\":[1000,1266,1220,1436,1218,1060,1153,1136,784,1109,1384,1309,1309,1060,1184,1217,1043,710,730,611,641,1203,1147,1133,1133,611,543,644,611,641,1065,1225,1238,734,543,960,547,482,508,593,938,734,801,1084,1045,463,600,765,732,938,970,807,769,857,698,786,698,679,757,757,952,864,897,923,698,926,1237,1285,1274,1165,931,1320,1018,1062,1024,1076,1289,1274,1165,1150,1296],\"19\":[2510,2478,2302,2638,2315,2592,2501,2236,1885,2241,2455,2408,2408,2592,2805,2783,2223,1862,1550,1359,1353,2803,2571,2263,2234,1491,1440,1867,1359,1353,1837,2018,2141,1718,1440,2117,1544,1218,1179,1400,2288,1718,2187,2765,2403,1415,1726,2208,1762,2288,2665,2159,2176,2341,2178,2286,1916,1764,1929,1929,2217,1934,2272,2544,1916,2738,3052,2976,2744,2172,2022,2374,2228,2167,2502,2809,3254,2744,2172,2034,2245],\"20\":[522,522,566,566,537,537,563,563,526,498,498,482,482,578,578,563,563,412,498,498,482,482,578,578,563,563,412,352,352,319,319,422,422,422,422,448,352,352,319,319,422,422,422,422,448,319,319,415,415,445,445,445,445,542,319,319,415,415,445,445,445,445,542,435,435,517,517,572,572,624,624,722,435,435,517,517,572,572,624,624,722],\"21\":[1739,1739,1480,1480,1562,1562,1559,1559,1500,1330,1330,1482,1482,1715,1715,1559,1559,1402,1330,1330,1482,1482,1715,1715,1559,1559,1402,1202,1202,1099,1099,1337,1337,1337,1337,1360,1202,1202,1099,1099,1337,1337,1337,1337,1360,1099,1099,1296,1296,1246,1246,1386,1386,1548,1099,1099,1296,1296,1246,1246,1386,1386,1548,1386,1386,1511,1511,1792,1792,1762,1762,1878,1386,1386,1511,1511,1792,1792,1762,1762,1878],\"22\":[690,690,681,681,681,681,672,672,672,681,681,681,681,672,672,672,672,672,681,681,681,681,672,672,672,672,672,681,681,672,672,672,672,672,672,663,681,681,672,672,672,672,672,672,663,672,672,672,672,663,663,663,663,654,672,672,672,672,663,663,663,663,654,672,672,663,663,663,663,654,654,654,672,672,663,663,663,663,654,654,654],\"23\":[6497,6497,6496,6496,6496,6496,6496,6496,6497,6496,6496,6496,6496,6496,6496,6496,6496,6496,6496,6496,6496,6496,6496,6496,6496,6496,6496,6496,6496,6495,6495,6496,6496,6496,6496,6495,6496,6496,6495,6495,6496,6496,6496,6496,6495,6495,6495,6495,6495,6495,6495,6495,6495,6494,6495,6495,6495,6495,6495,6495,6495,6495,6494,6495,6495,6495,6495,6495,6495,6494,6494,6494,6495,6495,6495,6495,6495,6495,6494,6494,6494],\"24\":[4301,3237,3072,2950,3105,4194,3689,3262,4125,3379,2789,2956,2956,4194,4063,3915,3612,4479,3596,3796,3570,3994,3830,3327,3269,4186,4523,4870,3796,3570,2660,2445,2672,4013,4523,3760,4768,4329,3977,4049,4184,4013,4638,4367,3938,5069,4840,4853,4129,4184,4662,4558,4777,4640,5146,4882,4659,4441,4363,4363,3991,3824,4338,4675,4659,4945,4231,3968,3658,3017,3694,2853,3727,3422,4191,4460,4325,3658,3017,2776,2680],\"25\":[-6222,-6222,-6222,-6222,-6222,-6222,-6222,-6222,-6145,-6222,-6222,-6222,-6222,-6222,-6222,-6222,-6222,-6222,-6222,-6222,-6222,-6222,-6222,-6222,-6222,-6222,-6222,-6298,-6298,-6300,-6300,-6222,-6222,-6222,-6222,-6223,-6298,-6298,-6300,-6300,-6222,-6222,-6222,-6222,-6223,-6300,-6300,-6300,-6300,-6301,-6301,-6301,-6301,-6302,-6300,-6300,-6300,-6300,-6301,-6301,-6301,-6301,-6302,-6300,-6300,-6301,-6301,-6301,-6301,-6302,-6302,-6302,-6300,-6300,-6301,-6301,-6301,-6301,-6302,-6302,-6302],\"26\":[1,1,1,1,1,1,1,1,1,1,1,1,1,1,1,1,1,1,1,1,1,1,1,1,1,1,1,1,1,1,1,1,1,1,1,1,1,1,1,1,1,1,1,1,1,1,1,1,1,1,1,1,1,1,1,1,1,1,1,1,1,1,1,1,1,1,1,1,1,1,1,1,1,1,1,1,1,1,1,1,1],\"27\":[0,0,0,0,0,0,0,0,0,0,0,0,0,0,0,0,0,0,0,0,0,0,0,0,0,0,0,0,0,0,0,0,0,0,0,0,0,0,0,0,0,0,0,0,0,0,0,0,0,0,0,0,0,0,0,0,0,0,0,0,0,0,0,0,0,0,0,0,0,0,0,0,0,0,0,0,0,0,0,0,0],\"28\":[2586,1875,1759,1766,1758,2566,2217,1854,2176,1866,1572,1650,1650,2620,2602,2468,2069,2209,1681,1656,1536,2438,2354,1918,1858,2012,1931,2335,1509,1389,1218,1223,1376,1898,1944,1992,2045,1604,1417,1605,2287,1898,2505,2609,2217,2016,2176,2636,1974,2315,2797,2473,2614,2764,2647,2566,2343,2131,2231,2231,2167,1941,2529,2734,2371,3142,2734,2578,2282,1738,2109,1770,2006,1808,2502,2815,2941,2282,1738,1550,1624],\"29\":[2120,2120,2120,2120,2120,2120,2120,2120,2120,2120,2120,2120,2120,2120,2120,2120,2120,2120,2120,2120,2120,2120,2120,2120,2120,2120,2120,2120,2120,2120,2120,2120,2120,2120,2120,2120,2120,2120,2120,2120,2120,2120,2120,2120,2120,2120,2120,2120,2120,2120,2120,2120,2120,2120,2120,2120,2120,2120,2120,2120,2120,2120,2120,2120,2120,2120,2120,2120,2120,2120,2120,2120,2120,2120,2120,2120,2120,2120,2120,2120,2120],\"30\":[1000,1266,1220,1436,1218,1060,1153,1136,784,1109,1384,1309,1309,1060,1184,1217,1043,710,730,611,641,1203,1147,1133,1133,611,543,644,611,641,1065,1225,1238,734,543,960,547,482,508,593,938,734,801,1084,1045,463,600,765,732,938,970,807,769,857,698,786,698,679,757,757,952,864,897,923,698,926,1237,1285,1274,1165,931,1320,1018,1062,1024,1076,1289,1274,1165,1150,1296],\"31\":[2510,2478,2302,2638,2315,2592,2501,2236,1885,2241,2455,2408,2408,2592,2805,2783,2223,1862,1550,1359,1353,2803,2571,2263,2234,1491,1440,1867,1359,1353,1837,2018,2141,1718,1440,2117,1544,1218,1179,1400,2288,1718,2187,2765,2403,1415,1726,2208,1762,2288,2665,2159,2176,2341,2178,2286,1916,1764,1929,1929,2217,1934,2272,2544,1916,2738,3052,2976,2744,2172,2022,2374,2228,2167,2502,2809,3254,2744,2172,2034,2245],\"32\":[522,522,566,566,537,537,563,563,526,498,498,482,482,578,578,563,563,412,498,498,482,482,578,578,563,563,412,352,352,319,319,422,422,422,422,448,352,352,319,319,422,422,422,422,448,319,319,415,415,445,445,445,445,542,319,319,415,415,445,445,445,445,542,435,435,517,517,572,572,624,624,722,435,435,517,517,572,572,624,624,722],\"33\":[1739,1739,1480,1480,1562,1562,1559,1559,1500,1330,1330,1482,1482,1715,1715,1559,1559,1402,1330,1330,1482,1482,1715,1715,1559,1559,1402,1202,1202,1099,1099,1337,1337,1337,1337,1360,1202,1202,1099,1099,1337,1337,1337,1337,1360,1099,1099,1296,1296,1246,1246,1386,1386,1548,1099,1099,1296,1296,1246,1246,1386,1386,1548,1386,1386,1511,1511,1792,1792,1762,1762,1878,1386,1386,1511,1511,1792,1792,1762,1762,1878],\"34\":[690,690,681,681,681,681,672,672,672,681,681,681,681,672,672,672,672,672,681,681,681,681,672,672,672,672,672,681,681,672,672,672,672,672,672,663,681,681,672,672,672,672,672,672,663,672,672,672,672,663,663,663,663,654,672,672,672,672,663,663,663,663,654,672,672,663,663,663,663,654,654,654,672,672,663,663,663,663,654,654,654],\"35\":[6497,6497,6496,6496,6496,6496,6496,6496,6497,6496,6496,6496,6496,6496,6496,6496,6496,6496,6496,6496,6496,6496,6496,6496,6496,6496,6496,6496,6496,6495,6495,6496,6496,6496,6496,6495,6496,6496,6495,6495,6496,6496,6496,6496,6495,6495,6495,6495,6495,6495,6495,6495,6495,6494,6495,6495,6495,6495,6495,6495,6495,6495,6494,6495,6495,6495,6495,6495,6495,6494,6494,6494,6495,6495,6495,6495,6495,6495,6494,6494,6494]}}'"
      ]
     },
     "execution_count": 10,
     "metadata": {},
     "output_type": "execute_result"
    }
   ],
   "source": [
    "data = []\n",
    "for date_uniq in granule_df.modis_date.unique():\n",
    "    temp_df = granule_df[granule_df.modis_date==date_uniq]\n",
    "       \n",
    "    # loop over tiles and download\n",
    "    for i in hv_df.order:\n",
    "        tile_name = hv_df[hv_df.order==i].tile.values[0]\n",
    "        s3_link = temp_df[temp_df.hv==tile_name].s3_link.values[0]   \n",
    "        g_temp = temp_df[temp_df.hv==tile_name].granule.values[0]  \n",
    "        fs_s3.download(s3_link, g_temp)\n",
    "    \n",
    "    # loop over variables\n",
    "    for v in variables:\n",
    "        temp_data = []\n",
    "        \n",
    "        for i in hv_df.order:   \n",
    "            tile_name = hv_df[hv_df.order==i].tile.values[0]\n",
    "            g_temp = temp_df[temp_df.hv==tile_name].granule.values[0]\n",
    "            \n",
    "            # defining subset indices\n",
    "            l1 = hv_df[hv_df.order==i].l.values[0]\n",
    "            l2 = l1 + hv_df[hv_df.order==i].box_line.values[0]\n",
    "            s1 = hv_df[hv_df.order==i].s.values[0]\n",
    "            s2 = s1 + hv_df[hv_df.order==i].box_samp.values[0]\n",
    "            if path.isfile(g_temp):\n",
    "                with rxr.open_rasterio(g_temp) as modis:\n",
    "                    temp_data.extend(modis[v][:, l1:l2, s1:s2].values.flatten().tolist()) \n",
    "        \n",
    "        # removing spaces from band names\n",
    "        band = v.replace(\" \", \"_\" )\n",
    "        data.append([g_temp, band, temp_data])\n",
    "    \n",
    "    # delete temp files\n",
    "    for g_temp in temp_df.granule:\n",
    "        if path.isfile(g_temp):\n",
    "            remove(g_temp)\n",
    "            \n",
    "headers = [\"granule\", \"band\", \"data\"]\n",
    "\n",
    "# print the output\n",
    "pd.DataFrame(data, columns=headers).to_json()"
   ]
  },
  {
   "cell_type": "code",
   "execution_count": null,
   "metadata": {},
   "outputs": [],
   "source": []
  }
 ],
 "metadata": {
  "kernelspec": {
   "display_name": "Python 3 (ipykernel)",
   "language": "python",
   "name": "python3"
  },
  "language_info": {
   "codemirror_mode": {
    "name": "ipython",
    "version": 3
   },
   "file_extension": ".py",
   "mimetype": "text/x-python",
   "name": "python",
   "nbconvert_exporter": "python",
   "pygments_lexer": "ipython3",
   "version": "3.9.13"
  }
 },
 "nbformat": 4,
 "nbformat_minor": 2
}
