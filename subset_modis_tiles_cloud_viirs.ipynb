{
 "cells": [
  {
   "cell_type": "markdown",
   "metadata": {},
   "source": [
    "# Subset VIIRS Tiles from NASA's Earthdata Cloud\n",
    "In this tutorial, we will subset a VIIRS Land Product (VNP13A1) available in the Earthdata Cloud. You will need to be in AWS us-west region.\n",
    "\n",
    "To access a Juypter Notebook on [AWS EC2](https://aws.amazon.com/ec2/) instance:\n",
    "1. On the AWS EC2 instance, start Juypter Notebook on port 8888 with the 'no-browser' parameter: `jupyter notebook --no-browser --port=8888`\n",
    "1. On your local machine, forward port 8000 to the remote port 8888 : `ssh -i my-key-pair.pem -L 8000:localhost:8888 my-instance-user-name@my-instance-IPv6-address`\n",
    "1. Now, the Jupyter Notebook can be accessed at `http://localhost:8000` in your local browser."
   ]
  },
  {
   "cell_type": "code",
   "execution_count": 1,
   "metadata": {
    "tags": []
   },
   "outputs": [],
   "source": [
    "import requests # request==2.28.1 \n",
    "import math \n",
    "import datetime as dt\n",
    "import numpy as np\n",
    "from requests.adapters import HTTPAdapter, Retry\n",
    "import boto3\n",
    "import rasterio\n",
    "import rioxarray as rxr # rioxarray==0.13.3 \n",
    "from posixpath import splitext\n",
    "from os import path, remove\n",
    "import pandas as pd # pandas==1.4.4\n",
    "import warnings\n",
    "warnings.filterwarnings(\"ignore\", category=rasterio.errors.NotGeoreferencedWarning)"
   ]
  },
  {
   "cell_type": "markdown",
   "metadata": {},
   "source": [
    "### Product details"
   ]
  },
  {
   "cell_type": "code",
   "execution_count": 2,
   "metadata": {
    "tags": []
   },
   "outputs": [],
   "source": [
    "# product \n",
    "product = \"VNP13A1\"\n",
    "\n",
    "# file format\n",
    "f_format = 'h5'\n",
    "\n",
    "# product doi\n",
    "doi = f\"10.5067/VIIRS/{product}.002\"\n",
    "\n",
    "# product resolution in meters\n",
    "grid = 500\n",
    "\n",
    "# root data directory\n",
    "data_path = \"HDFEOS_GRIDS_VIIRS_Grid_16Day_VI_500m_Data_Fields\""
   ]
  },
  {
   "cell_type": "markdown",
   "metadata": {},
   "source": [
    "### Subset parameters"
   ]
  },
  {
   "cell_type": "code",
   "execution_count": 3,
   "metadata": {
    "tags": []
   },
   "outputs": [],
   "source": [
    "# latitude/logitude in degrees decimals\n",
    "\n",
    "lat = 39.96852 # bottom /left span\n",
    "lon = -91.24829\n",
    "\n",
    "# subset size in km\n",
    "kmLeftRight = 1\n",
    "kmAboveBelow = 1\n",
    "\n",
    "# start & end dates\n",
    "start_date = dt.datetime(2016, 2, 2) \n",
    "end_date = dt.datetime(2016, 2, 24)\n",
    "\n",
    "# variables\n",
    "variables = ['500_m_16_days_NDVI',\n",
    " '500_m_16_days_EVI']"
   ]
  },
  {
   "cell_type": "markdown",
   "metadata": {},
   "source": [
    "### Tilemapper function"
   ]
  },
  {
   "cell_type": "code",
   "execution_count": 4,
   "metadata": {
    "tags": []
   },
   "outputs": [
    {
     "name": "stdout",
     "output_type": "stream",
     "text": [
      "modis_tile_size=2400, v=5, h=11, l=8, s=16\n"
     ]
    }
   ],
   "source": [
    "# returns vert tile, horiz tile, line, samp\n",
    "def tilemapper(laty, lonx, res):\n",
    "    dim = math.ceil(4800*250/res)\n",
    "    y = ((90 - laty)/180 * 18 * dim - 0.5) \n",
    "    x = (lonx/360*36*dim * math.cos(laty * np.pi / 180) + 18*dim - .5) % (36*dim)\n",
    "    t_h = math.floor(x/dim)\n",
    "    t_v = math.floor(y/dim)\n",
    "    t_s = math.ceil(x % dim)\n",
    "    t_l = math.ceil(y % dim)\n",
    "    if ((t_l-dim)==0):\n",
    "        t_l=0\n",
    "        t_v=t_v+1\n",
    "    if ((t_s-dim)==0):\n",
    "        t_s=0\n",
    "        t_h=t_h+1\n",
    "    return (dim, t_v, t_h, t_l, t_s)\n",
    "\n",
    "(modis_tile_size, v, h, l, s) = tilemapper(lat, lon, grid)\n",
    "\n",
    "# print\n",
    "print(f\"{modis_tile_size=}, {v=}, {h=}, {l=}, {s=}\")"
   ]
  },
  {
   "cell_type": "markdown",
   "metadata": {},
   "source": [
    "### Calculate box size"
   ]
  },
  {
   "cell_type": "code",
   "execution_count": 5,
   "metadata": {
    "tags": []
   },
   "outputs": [
    {
     "name": "stdout",
     "output_type": "stream",
     "text": [
      "line_span=6, box_wanted_samp=5, box_wanted_line=5, jump=0, span=0, calc_samp=19, calc_line=11\n"
     ]
    }
   ],
   "source": [
    "# number of pixels\n",
    "pix_left_right = math.ceil(kmLeftRight * 1000/grid)\n",
    "pix_above_below = math.ceil(kmAboveBelow * 1000/grid)\n",
    "\n",
    "# if s, l are negative, there is a jump\n",
    "s = s - pix_left_right \n",
    "l = l - pix_above_below\n",
    "\n",
    "h_span = h\n",
    "v_span = v\n",
    "line_span = l\n",
    "samp_span = s\n",
    "\n",
    "# tile jump\n",
    "jump = 0\n",
    "if (s < 0):\n",
    "    jump = 1\n",
    "    h_span = h-1\n",
    "    samp_span = modis_tile_size+s # NW pixel\n",
    "    \n",
    "if (l < 0):\n",
    "    jump = 1\n",
    "    v_span = v-1\n",
    "    line_span = modis_tile_size+l # NW pixel\n",
    "\n",
    "box_wanted_samp = pix_left_right+pix_left_right + 1\n",
    "box_wanted_line = pix_above_below+pix_above_below + 1 \n",
    "\n",
    "# tile span\n",
    "span = 0\n",
    "calc_samp = box_wanted_samp + samp_span\n",
    "calc_line = box_wanted_line + line_span\n",
    "if (calc_samp > modis_tile_size):\n",
    "    span = 1\n",
    "if (calc_line > modis_tile_size):\n",
    "    span = 1\n",
    "mts_plus1 = modis_tile_size + 1\n",
    "\n",
    "# print\n",
    "print(f\"{line_span=}, {box_wanted_samp=}, {box_wanted_line=}, {jump=}, {span=}, {calc_samp=}, {calc_line=}\")"
   ]
  },
  {
   "cell_type": "markdown",
   "metadata": {},
   "source": [
    "### Compute line, sample spans for tiles"
   ]
  },
  {
   "cell_type": "code",
   "execution_count": 6,
   "metadata": {
    "tags": []
   },
   "outputs": [
    {
     "data": {
      "text/html": [
       "<div>\n",
       "<style scoped>\n",
       "    .dataframe tbody tr th:only-of-type {\n",
       "        vertical-align: middle;\n",
       "    }\n",
       "\n",
       "    .dataframe tbody tr th {\n",
       "        vertical-align: top;\n",
       "    }\n",
       "\n",
       "    .dataframe thead th {\n",
       "        text-align: right;\n",
       "    }\n",
       "</style>\n",
       "<table border=\"1\" class=\"dataframe\">\n",
       "  <thead>\n",
       "    <tr style=\"text-align: right;\">\n",
       "      <th></th>\n",
       "      <th>order</th>\n",
       "      <th>tile</th>\n",
       "      <th>l</th>\n",
       "      <th>s</th>\n",
       "      <th>box_line</th>\n",
       "      <th>box_samp</th>\n",
       "    </tr>\n",
       "  </thead>\n",
       "  <tbody>\n",
       "    <tr>\n",
       "      <th>0</th>\n",
       "      <td>0</td>\n",
       "      <td>h11v05</td>\n",
       "      <td>6</td>\n",
       "      <td>14</td>\n",
       "      <td>5</td>\n",
       "      <td>5</td>\n",
       "    </tr>\n",
       "  </tbody>\n",
       "</table>\n",
       "</div>"
      ],
      "text/plain": [
       "   order    tile  l   s  box_line  box_samp\n",
       "0      0  h11v05  6  14         5         5"
      ]
     },
     "execution_count": 6,
     "metadata": {},
     "output_type": "execute_result"
    }
   ],
   "source": [
    "def hv_str(h_int, v_int):\n",
    "    return f\"h{str(h_int).zfill(2)}v{str(v_int).zfill(2)}\"\n",
    "\n",
    "def get_tile_info(t_pos, t_h, t_v, t_l, t_s, t_box_l, t_box_s):    \n",
    "    t_tile = hv_str(t_h, t_v)\n",
    "    return {'order' : t_pos,\n",
    "            'tile': t_tile, \n",
    "            'l': t_l, \n",
    "            's': t_s,\n",
    "            'box_line': t_box_l,\n",
    "            'box_samp': t_box_s}\n",
    "    \n",
    "def get_box_line_samp(cl, cs, mts):\n",
    "    hv = []\n",
    "    # bottom and left span\n",
    "    if ((cs > mts) and (cl > mts)): \n",
    "        # nw\n",
    "        hv.append(get_tile_info(0, h_span, v_span, line_span, samp_span, \n",
    "                          modis_tile_size - line_span, modis_tile_size - samp_span))\n",
    "        # ne\n",
    "        hv.append(get_tile_info(1, h_span + 1, v_span, line_span, 0, \n",
    "                          modis_tile_size - line_span, calc_samp - modis_tile_size))    \n",
    "        # sw\n",
    "        hv.append(get_tile_info(2, h_span, v_span + 1, 0, samp_span, \n",
    "                          calc_line - modis_tile_size, modis_tile_size - samp_span))\n",
    "        # se\n",
    "        hv.append(get_tile_info(3, h_span+1, v_span + 1, line_span, 0, \n",
    "                          calc_line - modis_tile_size, calc_samp - modis_tile_size))\n",
    "        \n",
    "    # left span   \n",
    "    elif ((cs > mts) and (cl <= mts)):\n",
    "        # nw\n",
    "        hv.append(get_tile_info(0, h_span, v_span, line_span, samp_span, \n",
    "                          box_wanted_line, modis_tile_size-samp_span))\n",
    "        # ne\n",
    "        hv.append(get_tile_info(1, h_span + 1, v_span, line_span, 0, \n",
    "                          box_wanted_line, calc_samp - modis_tile_size))    \n",
    "    \n",
    "    # bottom span\n",
    "    elif ((cs <= mts) and (cl > mts)):\n",
    "        # nw\n",
    "        hv.append(get_tile_info(0, h_span, v_span, line_span, samp_span, \n",
    "                          modis_tile_size - line_span, box_wanted_samp))\n",
    "        # sw\n",
    "        hv.append(get_tile_info(1, h_span, v_span + 1, 0, samp_span, \n",
    "                          calc_line - modis_tile_size, box_wanted_samp))\n",
    "    else:\n",
    "        # no jump\n",
    "        hv.append(\n",
    "            get_tile_info(0, h, v, l, s, box_wanted_line, box_wanted_samp)\n",
    "        )\n",
    "    return hv\n",
    "\n",
    "hv = get_box_line_samp (calc_line, calc_samp, modis_tile_size)\n",
    "\n",
    "hv_df = pd.DataFrame(hv)\n",
    "hv_df"
   ]
  },
  {
   "cell_type": "markdown",
   "metadata": {},
   "source": [
    "### Define search granules function"
   ]
  },
  {
   "cell_type": "code",
   "execution_count": 7,
   "metadata": {
    "tags": []
   },
   "outputs": [],
   "source": [
    "def search_granules(tile_hv, c_id, time_str):\n",
    "    page_num = 1\n",
    "    g_arr = []\n",
    "\n",
    "    while True:\n",
    "         # defining parameters\n",
    "        cmr_param = {\n",
    "            \"collection_concept_id\": c_id, \n",
    "            \"temporal\": time_str,\n",
    "            \"page_size\": 2000,\n",
    "            \"page_num\": page_num,\n",
    "            \"options[producerGranuleId][pattern]\": \"true\",\n",
    "            \"producerGranuleId\": f\"*.{tile_hv}.*\"        \n",
    "        }\n",
    "        granulesearch = cmrurl + 'granules.json'\n",
    "        response = requests.get(granulesearch, params=cmr_param)\n",
    "        granules = response.json()['feed']['entry']\n",
    "        if granules:\n",
    "            for g in granules:\n",
    "                # Get URL of HDF5 files\n",
    "                for links in g['links']:\n",
    "                    if links['href'].startswith('s3://') and links['href'].endswith(f\".{f_format}\"):\n",
    "                        s3_l = path.basename(links['href']).split('.')\n",
    "                        g_arr.append([links['href'], path.basename(links['href']), s3_l[1], s3_l[2], int(s3_l[4])])\n",
    "\n",
    "            page_num += 1\n",
    "        else: \n",
    "            break\n",
    "\n",
    "    # printing granules\n",
    "    return g_arr"
   ]
  },
  {
   "cell_type": "markdown",
   "metadata": {},
   "source": [
    "### Search granules"
   ]
  },
  {
   "cell_type": "code",
   "execution_count": 8,
   "metadata": {
    "tags": []
   },
   "outputs": [
    {
     "data": {
      "text/html": [
       "<div>\n",
       "<style scoped>\n",
       "    .dataframe tbody tr th:only-of-type {\n",
       "        vertical-align: middle;\n",
       "    }\n",
       "\n",
       "    .dataframe tbody tr th {\n",
       "        vertical-align: top;\n",
       "    }\n",
       "\n",
       "    .dataframe thead th {\n",
       "        text-align: right;\n",
       "    }\n",
       "</style>\n",
       "<table border=\"1\" class=\"dataframe\">\n",
       "  <thead>\n",
       "    <tr style=\"text-align: right;\">\n",
       "      <th></th>\n",
       "      <th>index</th>\n",
       "      <th>s3_link</th>\n",
       "      <th>granule</th>\n",
       "      <th>modis_date</th>\n",
       "      <th>hv</th>\n",
       "      <th>proc_date</th>\n",
       "    </tr>\n",
       "  </thead>\n",
       "  <tbody>\n",
       "    <tr>\n",
       "      <th>0</th>\n",
       "      <td>0</td>\n",
       "      <td>s3://lp-prod-protected/VNP13A1.002/VNP13A1.A20...</td>\n",
       "      <td>VNP13A1.A2016025.h11v05.002.2023181200957.h5</td>\n",
       "      <td>A2016025</td>\n",
       "      <td>h11v05</td>\n",
       "      <td>2023181200957</td>\n",
       "    </tr>\n",
       "    <tr>\n",
       "      <th>1</th>\n",
       "      <td>1</td>\n",
       "      <td>s3://lp-prod-protected/VNP13A1.002/VNP13A1.A20...</td>\n",
       "      <td>VNP13A1.A2016033.h11v05.002.2023182121419.h5</td>\n",
       "      <td>A2016033</td>\n",
       "      <td>h11v05</td>\n",
       "      <td>2023182121419</td>\n",
       "    </tr>\n",
       "    <tr>\n",
       "      <th>2</th>\n",
       "      <td>2</td>\n",
       "      <td>s3://lp-prod-protected/VNP13A1.002/VNP13A1.A20...</td>\n",
       "      <td>VNP13A1.A2016041.h11v05.002.2023182230509.h5</td>\n",
       "      <td>A2016041</td>\n",
       "      <td>h11v05</td>\n",
       "      <td>2023182230509</td>\n",
       "    </tr>\n",
       "    <tr>\n",
       "      <th>3</th>\n",
       "      <td>3</td>\n",
       "      <td>s3://lp-prod-protected/VNP13A1.002/VNP13A1.A20...</td>\n",
       "      <td>VNP13A1.A2016049.h11v05.002.2023183094607.h5</td>\n",
       "      <td>A2016049</td>\n",
       "      <td>h11v05</td>\n",
       "      <td>2023183094607</td>\n",
       "    </tr>\n",
       "  </tbody>\n",
       "</table>\n",
       "</div>"
      ],
      "text/plain": [
       "   index                                            s3_link   \n",
       "0      0  s3://lp-prod-protected/VNP13A1.002/VNP13A1.A20...  \\\n",
       "1      1  s3://lp-prod-protected/VNP13A1.002/VNP13A1.A20...   \n",
       "2      2  s3://lp-prod-protected/VNP13A1.002/VNP13A1.A20...   \n",
       "3      3  s3://lp-prod-protected/VNP13A1.002/VNP13A1.A20...   \n",
       "\n",
       "                                        granule modis_date      hv   \n",
       "0  VNP13A1.A2016025.h11v05.002.2023181200957.h5   A2016025  h11v05  \\\n",
       "1  VNP13A1.A2016033.h11v05.002.2023182121419.h5   A2016033  h11v05   \n",
       "2  VNP13A1.A2016041.h11v05.002.2023182230509.h5   A2016041  h11v05   \n",
       "3  VNP13A1.A2016049.h11v05.002.2023183094607.h5   A2016049  h11v05   \n",
       "\n",
       "       proc_date  \n",
       "0  2023181200957  \n",
       "1  2023182121419  \n",
       "2  2023182230509  \n",
       "3  2023183094607  "
      ]
     },
     "execution_count": 8,
     "metadata": {},
     "output_type": "execute_result"
    }
   ],
   "source": [
    "# cmr api url\n",
    "cmrurl='https://cmr.earthdata.nasa.gov/search/'\n",
    "# doi search to get concept_id\n",
    "doisearch = f'{cmrurl}collections.json?doi={doi}'\n",
    "concept_id = requests.get(doisearch).json()['feed']['entry'][0]['id']\n",
    "\n",
    "# CMR datetime format\n",
    "dt_format = '%Y-%m-%dT%H:%M:%SZ'\n",
    "# CMR time bounds\n",
    "temporal = start_date.strftime(dt_format) + ',' + end_date.strftime(dt_format)\n",
    "\n",
    "granule_arr=[]\n",
    "for hv_dict in hv:\n",
    "    granule_arr.extend(search_granules(hv_dict['tile'], concept_id, temporal))\n",
    "\n",
    "# create pandas dataframe\n",
    "granule_df = pd.DataFrame(granule_arr, columns=['s3_link', 'granule', 'modis_date', 'hv', 'proc_date'])\n",
    "\n",
    "# removing any granules with older proc dates\n",
    "granule_df = granule_df.loc[granule_df.groupby(['modis_date', 'hv'])['proc_date'].idxmax()].reset_index()\n",
    "granule_df"
   ]
  },
  {
   "cell_type": "markdown",
   "metadata": {},
   "source": [
    "### Get S3 credentials\n",
    "We will now get S3 temporary credentials and define the S3FS S3FileSystem object. Make sure that `.netrc` file is defined as described here: https://wiki.earthdata.nasa.gov/display/EL/How+To+Access+Data+With+cURL+And+Wget."
   ]
  },
  {
   "cell_type": "code",
   "execution_count": 9,
   "metadata": {
    "tags": []
   },
   "outputs": [
    {
     "data": {
      "text/plain": [
       "<rasterio.env.Env at 0x7f3ae2114cd0>"
      ]
     },
     "execution_count": 9,
     "metadata": {},
     "output_type": "execute_result"
    }
   ],
   "source": [
    "# creating a backoff\n",
    "session = requests.Session()\n",
    "retries = Retry(total=3, backoff_factor=0.1, status_forcelist=[ 500, 502, 503, 504 ])\n",
    "session.mount('https://', HTTPAdapter(max_retries=retries))\n",
    "\n",
    "# lp daac s3\n",
    "lp_s3 = f\"https://data.lpdaac.earthdatacloud.nasa.gov/s3credentials\"\n",
    "\n",
    "# get s3 credentials\n",
    "s3credentials = session.get(lp_s3).json()\n",
    "\n",
    "# boto3 session\n",
    "aws_sesssion = boto3.Session(aws_access_key_id=s3credentials['accessKeyId'], \n",
    "                        aws_secret_access_key=s3credentials['secretAccessKey'],\n",
    "                        aws_session_token=s3credentials['sessionToken'],\n",
    "                        region_name='us-west-2')\n",
    "env = rasterio.Env(rasterio.session.AWSSession(aws_sesssion),\n",
    "                  GDAL_DISABLE_READDIR_ON_OPEN='TRUE',\n",
    "                  GDAL_HTTP_COOKIEFILE=path.expanduser('~/.urs_cookies.txt'),\n",
    "                  GDAL_HTTP_COOKIEJAR=path.expanduser('~/.urs_cookies.txt'))\n",
    "env.__enter__()"
   ]
  },
  {
   "cell_type": "markdown",
   "metadata": {},
   "source": [
    "### Get Subsets"
   ]
  },
  {
   "cell_type": "code",
   "execution_count": 10,
   "metadata": {
    "scrolled": true,
    "tags": []
   },
   "outputs": [
    {
     "data": {
      "text/plain": [
       "'{\"granule\":{\"0\":\"VNP13A1.A2016025.h11v05.002.2023181200957.h5\",\"1\":\"VNP13A1.A2016025.h11v05.002.2023181200957.h5\",\"2\":\"VNP13A1.A2016033.h11v05.002.2023182121419.h5\",\"3\":\"VNP13A1.A2016033.h11v05.002.2023182121419.h5\",\"4\":\"VNP13A1.A2016041.h11v05.002.2023182230509.h5\",\"5\":\"VNP13A1.A2016041.h11v05.002.2023182230509.h5\",\"6\":\"VNP13A1.A2016049.h11v05.002.2023183094607.h5\",\"7\":\"VNP13A1.A2016049.h11v05.002.2023183094607.h5\"},\"band\":{\"0\":\"500_m_16_days_NDVI\",\"1\":\"500_m_16_days_EVI\",\"2\":\"500_m_16_days_NDVI\",\"3\":\"500_m_16_days_EVI\",\"4\":\"500_m_16_days_NDVI\",\"5\":\"500_m_16_days_EVI\",\"6\":\"500_m_16_days_NDVI\",\"7\":\"500_m_16_days_EVI\"},\"data\":{\"0\":[3454,4123,5037,3726,3812,4148,3538,3408,4363,3504,4409,3994,4092,4063,3832,3748,4239,3952,4114,3703,4232,4558,4208,3000,2825],\"1\":[1583,2372,3750,2024,1748,1809,1803,1796,1579,1557,2028,1673,2331,2301,2081,2111,2680,2386,2207,2113,2609,2930,2389,1649,1502],\"2\":[3454,4118,4120,3464,3812,4148,3538,3383,4363,3504,4409,3994,4043,3779,3832,3408,4224,3561,4114,3491,4232,4558,3362,2778,2669],\"3\":[1583,2264,2613,1755,1748,1809,1803,1761,1579,1557,2028,1673,2109,1911,2081,1924,2580,2024,2207,1957,2609,2930,1798,1487,1448],\"4\":[3734,3776,3641,3690,3784,4382,3467,4082,4082,3454,4382,3997,4036,3749,3885,3010,4182,3513,3473,2985,4243,4243,4488,2674,2674],\"5\":[2460,2018,2034,1635,1530,1710,1545,1967,1967,1596,1710,1893,2089,1955,2000,1677,2428,1800,1814,1454,2346,2346,2686,1400,1400],\"6\":[2882,3431,3791,3046,3620,3959,3042,3297,3625,3387,4153,3665,3671,3654,3413,3261,4293,3739,3615,2905,3829,4320,3172,3172,2718],\"7\":[1587,1973,2606,1882,1846,2039,1630,1852,2018,2018,2296,2110,2253,2063,2136,2019,2830,2397,2358,1798,2476,2938,2029,2029,1652]}}'"
      ]
     },
     "execution_count": 10,
     "metadata": {},
     "output_type": "execute_result"
    }
   ],
   "source": [
    "data = []\n",
    "for date_uniq in granule_df.modis_date.unique():\n",
    "    temp_df = granule_df[granule_df.modis_date==date_uniq]\n",
    "    \n",
    "    # loop over variables\n",
    "    for v in variables:\n",
    "        temp_data = []\n",
    "        \n",
    "        for i in hv_df.order:   \n",
    "            tile_name = hv_df[hv_df.order==i].tile.values[0]\n",
    "            s3_link = temp_df[temp_df.hv==tile_name].s3_link.values[0]   \n",
    "            g_temp = temp_df[temp_df.hv==tile_name].granule.values[0]\n",
    "            \n",
    "            # defining subset indices\n",
    "            l1 = hv_df[hv_df.order==i].l.values[0]\n",
    "            l2 = l1 + hv_df[hv_df.order==i].box_line.values[0]\n",
    "            s1 = hv_df[hv_df.order==i].s.values[0]\n",
    "            s2 = s1 + hv_df[hv_df.order==i].box_samp.values[0]\n",
    "            with rxr.open_rasterio(s3_link) as modis:\n",
    "                temp_data.extend(modis[f\"{data_path}_{v}\"][:, l1:l2, s1:s2].values.flatten().tolist()) \n",
    "\n",
    "        # removing spaces from band names\n",
    "        band = v.replace(\" \", \"_\" )\n",
    "        data.append([g_temp, band, temp_data])\n",
    "            \n",
    "headers = [\"granule\", \"band\", \"data\"]\n",
    "\n",
    "# print the output\n",
    "pd.DataFrame(data, columns=headers).to_json()"
   ]
  },
  {
   "cell_type": "code",
   "execution_count": null,
   "metadata": {},
   "outputs": [],
   "source": []
  }
 ],
 "metadata": {
  "kernelspec": {
   "display_name": "Python 3 (ipykernel)",
   "language": "python",
   "name": "python3"
  },
  "language_info": {
   "codemirror_mode": {
    "name": "ipython",
    "version": 3
   },
   "file_extension": ".py",
   "mimetype": "text/x-python",
   "name": "python",
   "nbconvert_exporter": "python",
   "pygments_lexer": "ipython3",
   "version": "3.9.16"
  }
 },
 "nbformat": 4,
 "nbformat_minor": 4
}
