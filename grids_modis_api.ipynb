{
 "cells": [
  {
   "cell_type": "markdown",
   "id": "c4e002b2",
   "metadata": {},
   "source": [
    "# Create MODIS Subset Grids\n",
    "This tutorial shows how to create GeoTiff grids from [MODIS Subsets API](https://modis.ornl.gov/data/modis_webservice.html) response."
   ]
  },
  {
   "cell_type": "code",
   "execution_count": 1,
   "id": "0d16d86f",
   "metadata": {},
   "outputs": [],
   "source": [
    "import requests\n",
    "import numpy as np\n",
    "import rasterio\n",
    "baseurl =\"https://modis.ornl.gov/rst/api/v1/\"\n",
    "product = \"MOD13Q1\"\n",
    "\n",
    "modis_api = baseurl + \"/\" + product + \"/subset\"\n"
   ]
  },
  {
   "cell_type": "code",
   "execution_count": 2,
   "id": "875d5d6b",
   "metadata": {},
   "outputs": [],
   "source": [
    "# first set of parameters\n",
    "params1 = {\n",
    "    \"latitude\": 36, \n",
    "    \"longitude\": 100,\n",
    "    \"startDate\": 'A2003001',\n",
    "    \"endDate\": 'A2003001',\n",
    "    \"kmAboveBelow\": 1,\n",
    "    \"kmLeftRight\": 1,\n",
    "    \"band\": \"250m_16_days_EVI\"\n",
    "}\n",
    "\n",
    "# API response\n",
    "response1 = requests.get(modis_api, params=params1).json()\n",
    "xllcorner = float(response1['xllcorner'])\n",
    "yllcorner = float(response1['yllcorner'])\n",
    "cellsize = float(response1['cellsize'])\n",
    "nrows = int(response1['nrows'])\n",
    "ncols = int(response1['ncols'])\n",
    "scale = float(response1['scale'])\n",
    "subset = np.array(response1['subset'][0]['data'], dtype = 'int32')\n",
    "\n",
    "# create a grid with correct orientation\n",
    "subset = np.flipud(subset.reshape(nrows, ncols))\n",
    "\n",
    "# sinusoidal projection\n",
    "crs = '+proj=sinu +R=6371007.181 +nadgrids=@null +wktext'\n",
    "\n",
    "# affine transformation\n",
    "transform = rasterio.transform.from_origin(xllcorner, yllcorner, cellsize, -cellsize)\n",
    "\n",
    "# writing to geotiff\n",
    "with rasterio.open('grid1.tif', 'w', driver='GTiff', height=nrows, width=ncols, count=1, dtype=subset.dtype,\n",
    "                            crs=crs, transform=transform) as grid1:\n",
    "    grid1.write(subset, 1)"
   ]
  },
  {
   "cell_type": "code",
   "execution_count": 5,
   "id": "21f735b4",
   "metadata": {},
   "outputs": [
    {
     "data": {
      "image/png": "[encoded data removed]",
      "text/plain": [
       "<Figure size 432x288 with 1 Axes>"
      ]
     },
     "metadata": {
      "needs_background": "light"
     },
     "output_type": "display_data"
    }
   ],
   "source": [
    "from rasterio.plot import show\n",
    "with rasterio.open('grid1.tif') as src:\n",
    "    grid2 = src.read(1, masked=True)\n",
    "    show(grid2, transform=src.transform)"
   ]
  }
 ],
 "metadata": {
  "kernelspec": {
   "display_name": "Python 3 (ipykernel)",
   "language": "python",
   "name": "python3"
  },
  "language_info": {
   "codemirror_mode": {
    "name": "ipython",
    "version": 3
   },
   "file_extension": ".py",
   "mimetype": "text/x-python",
   "name": "python",
   "nbconvert_exporter": "python",
   "pygments_lexer": "ipython3",
   "version": "3.9.9"
  }
 },
 "nbformat": 4,
 "nbformat_minor": 5
}
